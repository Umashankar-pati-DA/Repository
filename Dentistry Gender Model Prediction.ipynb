{
 "cells": [
  {
   "cell_type": "code",
   "execution_count": 91,
   "id": "c92670d4",
   "metadata": {},
   "outputs": [],
   "source": [
    "import pandas as pd\n",
    "import numpy as np\n",
    "import matplotlib.pyplot as plt\n",
    "import seaborn as sns\n",
    "from sklearn.preprocessing import LabelEncoder\n",
    "from sklearn.preprocessing import StandardScaler\n",
    "from scipy import stats\n",
    "import math as mt\n",
    "from math import sqrt\n",
    "from sklearn.model_selection import train_test_split\n",
    "import warnings\n",
    "warnings.simplefilter(action='ignore')"
   ]
  },
  {
   "cell_type": "code",
   "execution_count": 92,
   "id": "33d9e7b6",
   "metadata": {},
   "outputs": [],
   "source": [
    "df = pd.read_csv('C:/Users/Admin/Desktop/Proj1.csv')"
   ]
  },
  {
   "cell_type": "code",
   "execution_count": 93,
   "id": "05d2f629",
   "metadata": {},
   "outputs": [],
   "source": [
    "Dataset = df.copy()"
   ]
  },
  {
   "cell_type": "code",
   "execution_count": 94,
   "id": "c514bb19",
   "metadata": {},
   "outputs": [
    {
     "data": {
      "text/html": [
       "<div>\n",
       "<style scoped>\n",
       "    .dataframe tbody tr th:only-of-type {\n",
       "        vertical-align: middle;\n",
       "    }\n",
       "\n",
       "    .dataframe tbody tr th {\n",
       "        vertical-align: top;\n",
       "    }\n",
       "\n",
       "    .dataframe thead th {\n",
       "        text-align: right;\n",
       "    }\n",
       "</style>\n",
       "<table border=\"1\" class=\"dataframe\">\n",
       "  <thead>\n",
       "    <tr style=\"text-align: right;\">\n",
       "      <th></th>\n",
       "      <th>Sl No</th>\n",
       "      <th>Sample ID</th>\n",
       "      <th>Age</th>\n",
       "      <th>Gender</th>\n",
       "      <th>inter canine distance intraoral</th>\n",
       "      <th>intercanine distance casts</th>\n",
       "      <th>right canine width intraoral</th>\n",
       "      <th>right canine width casts</th>\n",
       "      <th>left canine width intraoral</th>\n",
       "      <th>left canine width casts</th>\n",
       "      <th>right canine index intra oral</th>\n",
       "      <th>right canine index casts</th>\n",
       "      <th>left canine index intraoral</th>\n",
       "      <th>left canine index casts</th>\n",
       "    </tr>\n",
       "  </thead>\n",
       "  <tbody>\n",
       "    <tr>\n",
       "      <th>0</th>\n",
       "      <td>1</td>\n",
       "      <td>NaN</td>\n",
       "      <td>24</td>\n",
       "      <td>Female</td>\n",
       "      <td>25.06</td>\n",
       "      <td>25.05</td>\n",
       "      <td>6.08</td>\n",
       "      <td>6.08</td>\n",
       "      <td>6.09</td>\n",
       "      <td>6.10</td>\n",
       "      <td>0.242</td>\n",
       "      <td>0.242</td>\n",
       "      <td>0.242</td>\n",
       "      <td>0.241</td>\n",
       "    </tr>\n",
       "    <tr>\n",
       "      <th>1</th>\n",
       "      <td>2</td>\n",
       "      <td>NaN</td>\n",
       "      <td>22</td>\n",
       "      <td>Female</td>\n",
       "      <td>25.78</td>\n",
       "      <td>25.79</td>\n",
       "      <td>6.13</td>\n",
       "      <td>6.13</td>\n",
       "      <td>6.33</td>\n",
       "      <td>6.33</td>\n",
       "      <td>0.237</td>\n",
       "      <td>0.237</td>\n",
       "      <td>0.247</td>\n",
       "      <td>0.247</td>\n",
       "    </tr>\n",
       "    <tr>\n",
       "      <th>2</th>\n",
       "      <td>3</td>\n",
       "      <td>NaN</td>\n",
       "      <td>23</td>\n",
       "      <td>Female</td>\n",
       "      <td>23.83</td>\n",
       "      <td>23.83</td>\n",
       "      <td>5.91</td>\n",
       "      <td>5.96</td>\n",
       "      <td>6.28</td>\n",
       "      <td>6.28</td>\n",
       "      <td>0.248</td>\n",
       "      <td>0.248</td>\n",
       "      <td>0.264</td>\n",
       "      <td>0.264</td>\n",
       "    </tr>\n",
       "    <tr>\n",
       "      <th>3</th>\n",
       "      <td>4</td>\n",
       "      <td>NaN</td>\n",
       "      <td>20</td>\n",
       "      <td>Female</td>\n",
       "      <td>26.12</td>\n",
       "      <td>26.12</td>\n",
       "      <td>6.08</td>\n",
       "      <td>6.08</td>\n",
       "      <td>6.56</td>\n",
       "      <td>6.56</td>\n",
       "      <td>0.232</td>\n",
       "      <td>0.232</td>\n",
       "      <td>0.250</td>\n",
       "      <td>0.250</td>\n",
       "    </tr>\n",
       "    <tr>\n",
       "      <th>4</th>\n",
       "      <td>5</td>\n",
       "      <td>NaN</td>\n",
       "      <td>20</td>\n",
       "      <td>Female</td>\n",
       "      <td>26.36</td>\n",
       "      <td>26.41</td>\n",
       "      <td>6.09</td>\n",
       "      <td>6.09</td>\n",
       "      <td>6.50</td>\n",
       "      <td>6.50</td>\n",
       "      <td>0.231</td>\n",
       "      <td>0.231</td>\n",
       "      <td>0.246</td>\n",
       "      <td>0.246</td>\n",
       "    </tr>\n",
       "  </tbody>\n",
       "</table>\n",
       "</div>"
      ],
      "text/plain": [
       "   Sl No  Sample ID  Age  Gender  inter canine distance intraoral  \\\n",
       "0      1        NaN   24  Female                            25.06   \n",
       "1      2        NaN   22  Female                            25.78   \n",
       "2      3        NaN   23  Female                            23.83   \n",
       "3      4        NaN   20  Female                            26.12   \n",
       "4      5        NaN   20  Female                            26.36   \n",
       "\n",
       "   intercanine distance casts  right canine width intraoral  \\\n",
       "0                       25.05                          6.08   \n",
       "1                       25.79                          6.13   \n",
       "2                       23.83                          5.91   \n",
       "3                       26.12                          6.08   \n",
       "4                       26.41                          6.09   \n",
       "\n",
       "   right canine width casts  left canine width intraoral  \\\n",
       "0                      6.08                         6.09   \n",
       "1                      6.13                         6.33   \n",
       "2                      5.96                         6.28   \n",
       "3                      6.08                         6.56   \n",
       "4                      6.09                         6.50   \n",
       "\n",
       "   left canine width casts  right canine index intra oral  \\\n",
       "0                     6.10                          0.242   \n",
       "1                     6.33                          0.237   \n",
       "2                     6.28                          0.248   \n",
       "3                     6.56                          0.232   \n",
       "4                     6.50                          0.231   \n",
       "\n",
       "   right canine index casts  left canine index intraoral  \\\n",
       "0                     0.242                        0.242   \n",
       "1                     0.237                        0.247   \n",
       "2                     0.248                        0.264   \n",
       "3                     0.232                        0.250   \n",
       "4                     0.231                        0.246   \n",
       "\n",
       "   left canine index casts  \n",
       "0                    0.241  \n",
       "1                    0.247  \n",
       "2                    0.264  \n",
       "3                    0.250  \n",
       "4                    0.246  "
      ]
     },
     "execution_count": 94,
     "metadata": {},
     "output_type": "execute_result"
    }
   ],
   "source": [
    "Dataset.head()  #to get an idea on the features of the dataset"
   ]
  },
  {
   "cell_type": "code",
   "execution_count": 95,
   "id": "b91d8108",
   "metadata": {
    "scrolled": true
   },
   "outputs": [
    {
     "name": "stdout",
     "output_type": "stream",
     "text": [
      "Shape of the Dataset before dropping duplicates: (1100, 14)\n"
     ]
    }
   ],
   "source": [
    "print('Shape of the Dataset before dropping duplicates:',Dataset.shape)"
   ]
  },
  {
   "cell_type": "code",
   "execution_count": 96,
   "id": "c5cd095f",
   "metadata": {},
   "outputs": [],
   "source": [
    "#As we could see there are 1100 rows and 14 columns(features) before dropping duplicate"
   ]
  },
  {
   "cell_type": "code",
   "execution_count": 97,
   "id": "cfb13c5a",
   "metadata": {},
   "outputs": [
    {
     "name": "stdout",
     "output_type": "stream",
     "text": [
      "<class 'pandas.core.frame.DataFrame'>\n",
      "RangeIndex: 1100 entries, 0 to 1099\n",
      "Data columns (total 14 columns):\n",
      " #   Column                           Non-Null Count  Dtype  \n",
      "---  ------                           --------------  -----  \n",
      " 0   Sl No                            1100 non-null   int64  \n",
      " 1   Sample ID                        0 non-null      float64\n",
      " 2   Age                              1100 non-null   int64  \n",
      " 3   Gender                           1100 non-null   object \n",
      " 4   inter canine distance intraoral  1100 non-null   float64\n",
      " 5   intercanine distance casts       1100 non-null   float64\n",
      " 6   right canine width intraoral     1100 non-null   float64\n",
      " 7   right canine width casts         1100 non-null   float64\n",
      " 8   left canine width intraoral      1100 non-null   float64\n",
      " 9   left canine width casts          1100 non-null   float64\n",
      " 10  right canine index intra oral    1100 non-null   float64\n",
      " 11  right canine index casts         1100 non-null   float64\n",
      " 12  left canine index intraoral      1100 non-null   float64\n",
      " 13  left canine index casts          1100 non-null   float64\n",
      "dtypes: float64(11), int64(2), object(1)\n",
      "memory usage: 120.4+ KB\n"
     ]
    }
   ],
   "source": [
    "Dataset.info()  #To get an idea of the features which might have null values"
   ]
  },
  {
   "cell_type": "code",
   "execution_count": 98,
   "id": "92969bda",
   "metadata": {},
   "outputs": [],
   "source": [
    "#We can see from above execution that Sample ID can be dropped as it has only Null values and also SI No.\n",
    "#as it is not that useful for Model prediction"
   ]
  },
  {
   "cell_type": "code",
   "execution_count": 99,
   "id": "cd07b3da",
   "metadata": {},
   "outputs": [],
   "source": [
    "Dataset = Dataset.drop(['Sample ID','Sl No'],axis =1)"
   ]
  },
  {
   "cell_type": "code",
   "execution_count": 100,
   "id": "368f5800",
   "metadata": {},
   "outputs": [
    {
     "name": "stdout",
     "output_type": "stream",
     "text": [
      "<class 'pandas.core.frame.DataFrame'>\n",
      "RangeIndex: 1100 entries, 0 to 1099\n",
      "Data columns (total 12 columns):\n",
      " #   Column                           Non-Null Count  Dtype  \n",
      "---  ------                           --------------  -----  \n",
      " 0   Age                              1100 non-null   int64  \n",
      " 1   Gender                           1100 non-null   object \n",
      " 2   inter canine distance intraoral  1100 non-null   float64\n",
      " 3   intercanine distance casts       1100 non-null   float64\n",
      " 4   right canine width intraoral     1100 non-null   float64\n",
      " 5   right canine width casts         1100 non-null   float64\n",
      " 6   left canine width intraoral      1100 non-null   float64\n",
      " 7   left canine width casts          1100 non-null   float64\n",
      " 8   right canine index intra oral    1100 non-null   float64\n",
      " 9   right canine index casts         1100 non-null   float64\n",
      " 10  left canine index intraoral      1100 non-null   float64\n",
      " 11  left canine index casts          1100 non-null   float64\n",
      "dtypes: float64(10), int64(1), object(1)\n",
      "memory usage: 103.2+ KB\n"
     ]
    }
   ],
   "source": [
    "Dataset.info()"
   ]
  },
  {
   "cell_type": "code",
   "execution_count": 101,
   "id": "0ad57424",
   "metadata": {},
   "outputs": [
    {
     "name": "stdout",
     "output_type": "stream",
     "text": [
      "Shape of the Dataset after dropping duplicates: (1077, 12)\n"
     ]
    }
   ],
   "source": [
    "Dataset= Dataset.drop_duplicates()\n",
    "print('Shape of the Dataset after dropping duplicates:',Dataset.shape)"
   ]
  },
  {
   "cell_type": "code",
   "execution_count": 102,
   "id": "44c48d49",
   "metadata": {},
   "outputs": [],
   "source": [
    "LE = LabelEncoder()"
   ]
  },
  {
   "cell_type": "code",
   "execution_count": 103,
   "id": "49de78ff",
   "metadata": {},
   "outputs": [],
   "source": [
    "Dataset['Gender']= LE.fit_transform(Dataset['Gender'])#Applying Categorical encoder coding on Categorical variable GENDER"
   ]
  },
  {
   "cell_type": "code",
   "execution_count": 104,
   "id": "7a66ea20",
   "metadata": {},
   "outputs": [
    {
     "data": {
      "text/html": [
       "<div>\n",
       "<style scoped>\n",
       "    .dataframe tbody tr th:only-of-type {\n",
       "        vertical-align: middle;\n",
       "    }\n",
       "\n",
       "    .dataframe tbody tr th {\n",
       "        vertical-align: top;\n",
       "    }\n",
       "\n",
       "    .dataframe thead th {\n",
       "        text-align: right;\n",
       "    }\n",
       "</style>\n",
       "<table border=\"1\" class=\"dataframe\">\n",
       "  <thead>\n",
       "    <tr style=\"text-align: right;\">\n",
       "      <th></th>\n",
       "      <th>Age</th>\n",
       "      <th>Gender</th>\n",
       "      <th>inter canine distance intraoral</th>\n",
       "      <th>intercanine distance casts</th>\n",
       "      <th>right canine width intraoral</th>\n",
       "      <th>right canine width casts</th>\n",
       "      <th>left canine width intraoral</th>\n",
       "      <th>left canine width casts</th>\n",
       "      <th>right canine index intra oral</th>\n",
       "      <th>right canine index casts</th>\n",
       "      <th>left canine index intraoral</th>\n",
       "      <th>left canine index casts</th>\n",
       "    </tr>\n",
       "  </thead>\n",
       "  <tbody>\n",
       "    <tr>\n",
       "      <th>0</th>\n",
       "      <td>24</td>\n",
       "      <td>0</td>\n",
       "      <td>25.06</td>\n",
       "      <td>25.05</td>\n",
       "      <td>6.08</td>\n",
       "      <td>6.08</td>\n",
       "      <td>6.09</td>\n",
       "      <td>6.10</td>\n",
       "      <td>0.242</td>\n",
       "      <td>0.242</td>\n",
       "      <td>0.242</td>\n",
       "      <td>0.241</td>\n",
       "    </tr>\n",
       "    <tr>\n",
       "      <th>1</th>\n",
       "      <td>22</td>\n",
       "      <td>0</td>\n",
       "      <td>25.78</td>\n",
       "      <td>25.79</td>\n",
       "      <td>6.13</td>\n",
       "      <td>6.13</td>\n",
       "      <td>6.33</td>\n",
       "      <td>6.33</td>\n",
       "      <td>0.237</td>\n",
       "      <td>0.237</td>\n",
       "      <td>0.247</td>\n",
       "      <td>0.247</td>\n",
       "    </tr>\n",
       "    <tr>\n",
       "      <th>2</th>\n",
       "      <td>23</td>\n",
       "      <td>0</td>\n",
       "      <td>23.83</td>\n",
       "      <td>23.83</td>\n",
       "      <td>5.91</td>\n",
       "      <td>5.96</td>\n",
       "      <td>6.28</td>\n",
       "      <td>6.28</td>\n",
       "      <td>0.248</td>\n",
       "      <td>0.248</td>\n",
       "      <td>0.264</td>\n",
       "      <td>0.264</td>\n",
       "    </tr>\n",
       "    <tr>\n",
       "      <th>3</th>\n",
       "      <td>20</td>\n",
       "      <td>0</td>\n",
       "      <td>26.12</td>\n",
       "      <td>26.12</td>\n",
       "      <td>6.08</td>\n",
       "      <td>6.08</td>\n",
       "      <td>6.56</td>\n",
       "      <td>6.56</td>\n",
       "      <td>0.232</td>\n",
       "      <td>0.232</td>\n",
       "      <td>0.250</td>\n",
       "      <td>0.250</td>\n",
       "    </tr>\n",
       "    <tr>\n",
       "      <th>4</th>\n",
       "      <td>20</td>\n",
       "      <td>0</td>\n",
       "      <td>26.36</td>\n",
       "      <td>26.41</td>\n",
       "      <td>6.09</td>\n",
       "      <td>6.09</td>\n",
       "      <td>6.50</td>\n",
       "      <td>6.50</td>\n",
       "      <td>0.231</td>\n",
       "      <td>0.231</td>\n",
       "      <td>0.246</td>\n",
       "      <td>0.246</td>\n",
       "    </tr>\n",
       "  </tbody>\n",
       "</table>\n",
       "</div>"
      ],
      "text/plain": [
       "   Age  Gender  inter canine distance intraoral  intercanine distance casts  \\\n",
       "0   24       0                            25.06                       25.05   \n",
       "1   22       0                            25.78                       25.79   \n",
       "2   23       0                            23.83                       23.83   \n",
       "3   20       0                            26.12                       26.12   \n",
       "4   20       0                            26.36                       26.41   \n",
       "\n",
       "   right canine width intraoral  right canine width casts  \\\n",
       "0                          6.08                      6.08   \n",
       "1                          6.13                      6.13   \n",
       "2                          5.91                      5.96   \n",
       "3                          6.08                      6.08   \n",
       "4                          6.09                      6.09   \n",
       "\n",
       "   left canine width intraoral  left canine width casts  \\\n",
       "0                         6.09                     6.10   \n",
       "1                         6.33                     6.33   \n",
       "2                         6.28                     6.28   \n",
       "3                         6.56                     6.56   \n",
       "4                         6.50                     6.50   \n",
       "\n",
       "   right canine index intra oral  right canine index casts  \\\n",
       "0                          0.242                     0.242   \n",
       "1                          0.237                     0.237   \n",
       "2                          0.248                     0.248   \n",
       "3                          0.232                     0.232   \n",
       "4                          0.231                     0.231   \n",
       "\n",
       "   left canine index intraoral  left canine index casts  \n",
       "0                        0.242                    0.241  \n",
       "1                        0.247                    0.247  \n",
       "2                        0.264                    0.264  \n",
       "3                        0.250                    0.250  \n",
       "4                        0.246                    0.246  "
      ]
     },
     "execution_count": 104,
     "metadata": {},
     "output_type": "execute_result"
    }
   ],
   "source": [
    "Dataset.head()"
   ]
  },
  {
   "cell_type": "code",
   "execution_count": 105,
   "id": "371dcc7c",
   "metadata": {},
   "outputs": [
    {
     "data": {
      "text/plain": [
       "array([0, 1])"
      ]
     },
     "execution_count": 105,
     "metadata": {},
     "output_type": "execute_result"
    }
   ],
   "source": [
    "Dataset['Gender'].unique()"
   ]
  },
  {
   "cell_type": "code",
   "execution_count": 106,
   "id": "4cdbb024",
   "metadata": {},
   "outputs": [
    {
     "data": {
      "text/html": [
       "<div>\n",
       "<style scoped>\n",
       "    .dataframe tbody tr th:only-of-type {\n",
       "        vertical-align: middle;\n",
       "    }\n",
       "\n",
       "    .dataframe tbody tr th {\n",
       "        vertical-align: top;\n",
       "    }\n",
       "\n",
       "    .dataframe thead th {\n",
       "        text-align: right;\n",
       "    }\n",
       "</style>\n",
       "<table border=\"1\" class=\"dataframe\">\n",
       "  <thead>\n",
       "    <tr style=\"text-align: right;\">\n",
       "      <th></th>\n",
       "      <th>Age</th>\n",
       "      <th>Gender</th>\n",
       "      <th>inter canine distance intraoral</th>\n",
       "      <th>intercanine distance casts</th>\n",
       "      <th>right canine width intraoral</th>\n",
       "      <th>right canine width casts</th>\n",
       "      <th>left canine width intraoral</th>\n",
       "      <th>left canine width casts</th>\n",
       "      <th>right canine index intra oral</th>\n",
       "      <th>right canine index casts</th>\n",
       "      <th>left canine index intraoral</th>\n",
       "      <th>left canine index casts</th>\n",
       "    </tr>\n",
       "  </thead>\n",
       "  <tbody>\n",
       "  </tbody>\n",
       "</table>\n",
       "</div>"
      ],
      "text/plain": [
       "Empty DataFrame\n",
       "Columns: [Age, Gender, inter canine distance intraoral, intercanine distance casts, right canine width intraoral, right canine width casts, left canine width intraoral, left canine width casts, right canine index intra oral, right canine index casts, left canine index intraoral, left canine index casts]\n",
       "Index: []"
      ]
     },
     "execution_count": 106,
     "metadata": {},
     "output_type": "execute_result"
    }
   ],
   "source": [
    "Dataset.loc[Dataset['Gender'] == 'Male']"
   ]
  },
  {
   "cell_type": "code",
   "execution_count": 107,
   "id": "195aa698",
   "metadata": {},
   "outputs": [
    {
     "name": "stdout",
     "output_type": "stream",
     "text": [
      "<class 'pandas.core.frame.DataFrame'>\n",
      "Int64Index: 1077 entries, 0 to 1099\n",
      "Data columns (total 12 columns):\n",
      " #   Column                           Non-Null Count  Dtype  \n",
      "---  ------                           --------------  -----  \n",
      " 0   Age                              1077 non-null   int64  \n",
      " 1   Gender                           1077 non-null   int32  \n",
      " 2   inter canine distance intraoral  1077 non-null   float64\n",
      " 3   intercanine distance casts       1077 non-null   float64\n",
      " 4   right canine width intraoral     1077 non-null   float64\n",
      " 5   right canine width casts         1077 non-null   float64\n",
      " 6   left canine width intraoral      1077 non-null   float64\n",
      " 7   left canine width casts          1077 non-null   float64\n",
      " 8   right canine index intra oral    1077 non-null   float64\n",
      " 9   right canine index casts         1077 non-null   float64\n",
      " 10  left canine index intraoral      1077 non-null   float64\n",
      " 11  left canine index casts          1077 non-null   float64\n",
      "dtypes: float64(10), int32(1), int64(1)\n",
      "memory usage: 105.2 KB\n"
     ]
    }
   ],
   "source": [
    "Dataset.info()"
   ]
  },
  {
   "cell_type": "code",
   "execution_count": 108,
   "id": "b434b258",
   "metadata": {},
   "outputs": [
    {
     "data": {
      "text/plain": [
       "(1077, 12)"
      ]
     },
     "execution_count": 108,
     "metadata": {},
     "output_type": "execute_result"
    }
   ],
   "source": [
    "Dataset.shape"
   ]
  },
  {
   "cell_type": "code",
   "execution_count": 109,
   "id": "f4316990",
   "metadata": {},
   "outputs": [
    {
     "data": {
      "text/html": [
       "<div>\n",
       "<style scoped>\n",
       "    .dataframe tbody tr th:only-of-type {\n",
       "        vertical-align: middle;\n",
       "    }\n",
       "\n",
       "    .dataframe tbody tr th {\n",
       "        vertical-align: top;\n",
       "    }\n",
       "\n",
       "    .dataframe thead th {\n",
       "        text-align: right;\n",
       "    }\n",
       "</style>\n",
       "<table border=\"1\" class=\"dataframe\">\n",
       "  <thead>\n",
       "    <tr style=\"text-align: right;\">\n",
       "      <th></th>\n",
       "      <th>Age</th>\n",
       "      <th>Gender</th>\n",
       "      <th>inter canine distance intraoral</th>\n",
       "      <th>intercanine distance casts</th>\n",
       "      <th>right canine width intraoral</th>\n",
       "      <th>right canine width casts</th>\n",
       "      <th>left canine width intraoral</th>\n",
       "      <th>left canine width casts</th>\n",
       "      <th>right canine index intra oral</th>\n",
       "      <th>right canine index casts</th>\n",
       "      <th>left canine index intraoral</th>\n",
       "      <th>left canine index casts</th>\n",
       "    </tr>\n",
       "  </thead>\n",
       "  <tbody>\n",
       "    <tr>\n",
       "      <th>count</th>\n",
       "      <td>1077.00000</td>\n",
       "      <td>1077.000000</td>\n",
       "      <td>1077.000000</td>\n",
       "      <td>1077.000000</td>\n",
       "      <td>1077.000000</td>\n",
       "      <td>1077.000000</td>\n",
       "      <td>1077.000000</td>\n",
       "      <td>1077.000000</td>\n",
       "      <td>1077.000000</td>\n",
       "      <td>1077.000000</td>\n",
       "      <td>1077.000000</td>\n",
       "      <td>1077.000000</td>\n",
       "    </tr>\n",
       "    <tr>\n",
       "      <th>mean</th>\n",
       "      <td>21.62117</td>\n",
       "      <td>0.501393</td>\n",
       "      <td>25.981188</td>\n",
       "      <td>25.869842</td>\n",
       "      <td>6.560149</td>\n",
       "      <td>6.561671</td>\n",
       "      <td>6.667604</td>\n",
       "      <td>6.673120</td>\n",
       "      <td>0.253104</td>\n",
       "      <td>0.252319</td>\n",
       "      <td>0.256456</td>\n",
       "      <td>0.256362</td>\n",
       "    </tr>\n",
       "    <tr>\n",
       "      <th>std</th>\n",
       "      <td>2.07289</td>\n",
       "      <td>0.500230</td>\n",
       "      <td>1.309747</td>\n",
       "      <td>1.867892</td>\n",
       "      <td>0.378103</td>\n",
       "      <td>0.376608</td>\n",
       "      <td>0.375512</td>\n",
       "      <td>0.376803</td>\n",
       "      <td>0.015395</td>\n",
       "      <td>0.012894</td>\n",
       "      <td>0.012358</td>\n",
       "      <td>0.012374</td>\n",
       "    </tr>\n",
       "    <tr>\n",
       "      <th>min</th>\n",
       "      <td>18.00000</td>\n",
       "      <td>0.000000</td>\n",
       "      <td>23.120000</td>\n",
       "      <td>6.540000</td>\n",
       "      <td>5.460000</td>\n",
       "      <td>5.460000</td>\n",
       "      <td>5.460000</td>\n",
       "      <td>5.460000</td>\n",
       "      <td>0.223000</td>\n",
       "      <td>0.223000</td>\n",
       "      <td>0.223000</td>\n",
       "      <td>0.223000</td>\n",
       "    </tr>\n",
       "    <tr>\n",
       "      <th>25%</th>\n",
       "      <td>20.00000</td>\n",
       "      <td>0.000000</td>\n",
       "      <td>24.990000</td>\n",
       "      <td>24.970000</td>\n",
       "      <td>6.290000</td>\n",
       "      <td>6.300000</td>\n",
       "      <td>6.400000</td>\n",
       "      <td>6.400000</td>\n",
       "      <td>0.242000</td>\n",
       "      <td>0.242000</td>\n",
       "      <td>0.247000</td>\n",
       "      <td>0.247000</td>\n",
       "    </tr>\n",
       "    <tr>\n",
       "      <th>50%</th>\n",
       "      <td>22.00000</td>\n",
       "      <td>1.000000</td>\n",
       "      <td>25.890000</td>\n",
       "      <td>25.890000</td>\n",
       "      <td>6.520000</td>\n",
       "      <td>6.520000</td>\n",
       "      <td>6.660000</td>\n",
       "      <td>6.670000</td>\n",
       "      <td>0.253000</td>\n",
       "      <td>0.253000</td>\n",
       "      <td>0.255000</td>\n",
       "      <td>0.255000</td>\n",
       "    </tr>\n",
       "    <tr>\n",
       "      <th>75%</th>\n",
       "      <td>23.00000</td>\n",
       "      <td>1.000000</td>\n",
       "      <td>26.980000</td>\n",
       "      <td>26.980000</td>\n",
       "      <td>6.800000</td>\n",
       "      <td>6.800000</td>\n",
       "      <td>6.900000</td>\n",
       "      <td>6.920000</td>\n",
       "      <td>0.262000</td>\n",
       "      <td>0.261000</td>\n",
       "      <td>0.264000</td>\n",
       "      <td>0.264000</td>\n",
       "    </tr>\n",
       "    <tr>\n",
       "      <th>max</th>\n",
       "      <td>25.00000</td>\n",
       "      <td>1.000000</td>\n",
       "      <td>30.310000</td>\n",
       "      <td>30.310000</td>\n",
       "      <td>7.610000</td>\n",
       "      <td>7.600000</td>\n",
       "      <td>7.810000</td>\n",
       "      <td>7.810000</td>\n",
       "      <td>0.363000</td>\n",
       "      <td>0.302000</td>\n",
       "      <td>0.305000</td>\n",
       "      <td>0.304000</td>\n",
       "    </tr>\n",
       "  </tbody>\n",
       "</table>\n",
       "</div>"
      ],
      "text/plain": [
       "              Age       Gender  inter canine distance intraoral  \\\n",
       "count  1077.00000  1077.000000                      1077.000000   \n",
       "mean     21.62117     0.501393                        25.981188   \n",
       "std       2.07289     0.500230                         1.309747   \n",
       "min      18.00000     0.000000                        23.120000   \n",
       "25%      20.00000     0.000000                        24.990000   \n",
       "50%      22.00000     1.000000                        25.890000   \n",
       "75%      23.00000     1.000000                        26.980000   \n",
       "max      25.00000     1.000000                        30.310000   \n",
       "\n",
       "       intercanine distance casts  right canine width intraoral  \\\n",
       "count                 1077.000000                   1077.000000   \n",
       "mean                    25.869842                      6.560149   \n",
       "std                      1.867892                      0.378103   \n",
       "min                      6.540000                      5.460000   \n",
       "25%                     24.970000                      6.290000   \n",
       "50%                     25.890000                      6.520000   \n",
       "75%                     26.980000                      6.800000   \n",
       "max                     30.310000                      7.610000   \n",
       "\n",
       "       right canine width casts  left canine width intraoral  \\\n",
       "count               1077.000000                  1077.000000   \n",
       "mean                   6.561671                     6.667604   \n",
       "std                    0.376608                     0.375512   \n",
       "min                    5.460000                     5.460000   \n",
       "25%                    6.300000                     6.400000   \n",
       "50%                    6.520000                     6.660000   \n",
       "75%                    6.800000                     6.900000   \n",
       "max                    7.600000                     7.810000   \n",
       "\n",
       "       left canine width casts  right canine index intra oral  \\\n",
       "count              1077.000000                    1077.000000   \n",
       "mean                  6.673120                       0.253104   \n",
       "std                   0.376803                       0.015395   \n",
       "min                   5.460000                       0.223000   \n",
       "25%                   6.400000                       0.242000   \n",
       "50%                   6.670000                       0.253000   \n",
       "75%                   6.920000                       0.262000   \n",
       "max                   7.810000                       0.363000   \n",
       "\n",
       "       right canine index casts  left canine index intraoral  \\\n",
       "count               1077.000000                  1077.000000   \n",
       "mean                   0.252319                     0.256456   \n",
       "std                    0.012894                     0.012358   \n",
       "min                    0.223000                     0.223000   \n",
       "25%                    0.242000                     0.247000   \n",
       "50%                    0.253000                     0.255000   \n",
       "75%                    0.261000                     0.264000   \n",
       "max                    0.302000                     0.305000   \n",
       "\n",
       "       left canine index casts  \n",
       "count              1077.000000  \n",
       "mean                  0.256362  \n",
       "std                   0.012374  \n",
       "min                   0.223000  \n",
       "25%                   0.247000  \n",
       "50%                   0.255000  \n",
       "75%                   0.264000  \n",
       "max                   0.304000  "
      ]
     },
     "execution_count": 109,
     "metadata": {},
     "output_type": "execute_result"
    }
   ],
   "source": [
    "Dataset.describe()"
   ]
  },
  {
   "cell_type": "code",
   "execution_count": 110,
   "id": "66d4e065",
   "metadata": {},
   "outputs": [
    {
     "name": "stdout",
     "output_type": "stream",
     "text": [
      "Total Male: 540\n",
      "Total Female: 537\n"
     ]
    },
    {
     "data": {
      "text/plain": [
       "<AxesSubplot:ylabel=' '>"
      ]
     },
     "execution_count": 110,
     "metadata": {},
     "output_type": "execute_result"
    },
    {
     "data": {
      "image/png": "[encoded data removed]",
      "text/plain": [
       "<Figure size 432x288 with 1 Axes>"
      ]
     },
     "metadata": {},
     "output_type": "display_data"
    }
   ],
   "source": [
    "# check for relative proportion \n",
    "print(\"Total Male: \" + str(len(Dataset[Dataset['Gender'] == 1])))\n",
    "print(\"Total Female: \" + str(len(Dataset[Dataset['Gender'] == 0])))\n",
    "\n",
    "\n",
    "# To see how small are the number of Fraud transactions\n",
    "data_pi = Dataset.copy()\n",
    "data_pi[\" \"] = np.where(data_pi['Gender'] == 1 ,  \"Male\", \"Female\")\n",
    "\n",
    "# plot a pie chart\n",
    "%matplotlib inline\n",
    "data_pi[\" \"].value_counts().plot(kind=\"pie\")"
   ]
  },
  {
   "cell_type": "code",
   "execution_count": 111,
   "id": "71956564",
   "metadata": {},
   "outputs": [],
   "source": [
    "#our data is close to evenly distribution"
   ]
  },
  {
   "cell_type": "code",
   "execution_count": 112,
   "id": "832b9992",
   "metadata": {},
   "outputs": [],
   "source": [
    "DF = Dataset.copy()\n",
    "New_DF = Dataset.copy()"
   ]
  },
  {
   "cell_type": "code",
   "execution_count": 113,
   "id": "a48834f5",
   "metadata": {},
   "outputs": [],
   "source": [
    "from sklearn.feature_selection import SelectKBest\n",
    "from sklearn.feature_selection import chi2"
   ]
  },
  {
   "cell_type": "code",
   "execution_count": 114,
   "id": "63e49028",
   "metadata": {},
   "outputs": [],
   "source": [
    "x = New_DF.drop(\"Gender\",axis = 1)\n",
    "y= New_DF[\"Gender\"]\n",
    "bestfeatures = SelectKBest(score_func = chi2,k=7)\n",
    "fit =bestfeatures.fit(x,y)"
   ]
  },
  {
   "cell_type": "code",
   "execution_count": 115,
   "id": "4dcb50f6",
   "metadata": {},
   "outputs": [
    {
     "data": {
      "text/html": [
       "<div>\n",
       "<style scoped>\n",
       "    .dataframe tbody tr th:only-of-type {\n",
       "        vertical-align: middle;\n",
       "    }\n",
       "\n",
       "    .dataframe tbody tr th {\n",
       "        vertical-align: top;\n",
       "    }\n",
       "\n",
       "    .dataframe thead th {\n",
       "        text-align: right;\n",
       "    }\n",
       "</style>\n",
       "<table border=\"1\" class=\"dataframe\">\n",
       "  <thead>\n",
       "    <tr style=\"text-align: right;\">\n",
       "      <th></th>\n",
       "      <th>fetaures</th>\n",
       "      <th>scores</th>\n",
       "    </tr>\n",
       "  </thead>\n",
       "  <tbody>\n",
       "    <tr>\n",
       "      <th>6</th>\n",
       "      <td>left canine width casts</td>\n",
       "      <td>9.288489</td>\n",
       "    </tr>\n",
       "    <tr>\n",
       "      <th>5</th>\n",
       "      <td>left canine width intraoral</td>\n",
       "      <td>8.943845</td>\n",
       "    </tr>\n",
       "    <tr>\n",
       "      <th>1</th>\n",
       "      <td>inter canine distance intraoral</td>\n",
       "      <td>8.051697</td>\n",
       "    </tr>\n",
       "    <tr>\n",
       "      <th>3</th>\n",
       "      <td>right canine width intraoral</td>\n",
       "      <td>7.284305</td>\n",
       "    </tr>\n",
       "    <tr>\n",
       "      <th>4</th>\n",
       "      <td>right canine width casts</td>\n",
       "      <td>7.228491</td>\n",
       "    </tr>\n",
       "    <tr>\n",
       "      <th>2</th>\n",
       "      <td>intercanine distance casts</td>\n",
       "      <td>4.463575</td>\n",
       "    </tr>\n",
       "    <tr>\n",
       "      <th>0</th>\n",
       "      <td>Age</td>\n",
       "      <td>3.298344</td>\n",
       "    </tr>\n",
       "    <tr>\n",
       "      <th>10</th>\n",
       "      <td>left canine index casts</td>\n",
       "      <td>0.096843</td>\n",
       "    </tr>\n",
       "    <tr>\n",
       "      <th>9</th>\n",
       "      <td>left canine index intraoral</td>\n",
       "      <td>0.095045</td>\n",
       "    </tr>\n",
       "    <tr>\n",
       "      <th>8</th>\n",
       "      <td>right canine index casts</td>\n",
       "      <td>0.063348</td>\n",
       "    </tr>\n",
       "    <tr>\n",
       "      <th>7</th>\n",
       "      <td>right canine index intra oral</td>\n",
       "      <td>0.042300</td>\n",
       "    </tr>\n",
       "  </tbody>\n",
       "</table>\n",
       "</div>"
      ],
      "text/plain": [
       "                           fetaures    scores\n",
       "6           left canine width casts  9.288489\n",
       "5       left canine width intraoral  8.943845\n",
       "1   inter canine distance intraoral  8.051697\n",
       "3      right canine width intraoral  7.284305\n",
       "4          right canine width casts  7.228491\n",
       "2        intercanine distance casts  4.463575\n",
       "0                               Age  3.298344\n",
       "10          left canine index casts  0.096843\n",
       "9       left canine index intraoral  0.095045\n",
       "8          right canine index casts  0.063348\n",
       "7     right canine index intra oral  0.042300"
      ]
     },
     "execution_count": 115,
     "metadata": {},
     "output_type": "execute_result"
    }
   ],
   "source": [
    "feature_scores = pd.concat([pd.DataFrame(x.columns),pd.DataFrame(fit.scores_)],axis = 1)\n",
    "feature_scores.columns = [\"fetaures\",\"scores\"]\n",
    "feature_scores.sort_values(by = 'scores',ascending = False)"
   ]
  },
  {
   "cell_type": "code",
   "execution_count": 116,
   "id": "e3b5346e",
   "metadata": {},
   "outputs": [
    {
     "data": {
      "text/html": [
       "<div>\n",
       "<style scoped>\n",
       "    .dataframe tbody tr th:only-of-type {\n",
       "        vertical-align: middle;\n",
       "    }\n",
       "\n",
       "    .dataframe tbody tr th {\n",
       "        vertical-align: top;\n",
       "    }\n",
       "\n",
       "    .dataframe thead th {\n",
       "        text-align: right;\n",
       "    }\n",
       "</style>\n",
       "<table border=\"1\" class=\"dataframe\">\n",
       "  <thead>\n",
       "    <tr style=\"text-align: right;\">\n",
       "      <th></th>\n",
       "      <th>fetaures</th>\n",
       "      <th>scores</th>\n",
       "    </tr>\n",
       "  </thead>\n",
       "  <tbody>\n",
       "    <tr>\n",
       "      <th>6</th>\n",
       "      <td>left canine width casts</td>\n",
       "      <td>9.288489</td>\n",
       "    </tr>\n",
       "    <tr>\n",
       "      <th>5</th>\n",
       "      <td>left canine width intraoral</td>\n",
       "      <td>8.943845</td>\n",
       "    </tr>\n",
       "    <tr>\n",
       "      <th>1</th>\n",
       "      <td>inter canine distance intraoral</td>\n",
       "      <td>8.051697</td>\n",
       "    </tr>\n",
       "    <tr>\n",
       "      <th>3</th>\n",
       "      <td>right canine width intraoral</td>\n",
       "      <td>7.284305</td>\n",
       "    </tr>\n",
       "    <tr>\n",
       "      <th>4</th>\n",
       "      <td>right canine width casts</td>\n",
       "      <td>7.228491</td>\n",
       "    </tr>\n",
       "    <tr>\n",
       "      <th>2</th>\n",
       "      <td>intercanine distance casts</td>\n",
       "      <td>4.463575</td>\n",
       "    </tr>\n",
       "    <tr>\n",
       "      <th>0</th>\n",
       "      <td>Age</td>\n",
       "      <td>3.298344</td>\n",
       "    </tr>\n",
       "  </tbody>\n",
       "</table>\n",
       "</div>"
      ],
      "text/plain": [
       "                          fetaures    scores\n",
       "6          left canine width casts  9.288489\n",
       "5      left canine width intraoral  8.943845\n",
       "1  inter canine distance intraoral  8.051697\n",
       "3     right canine width intraoral  7.284305\n",
       "4         right canine width casts  7.228491\n",
       "2       intercanine distance casts  4.463575\n",
       "0                              Age  3.298344"
      ]
     },
     "execution_count": 116,
     "metadata": {},
     "output_type": "execute_result"
    }
   ],
   "source": [
    "feature_scores.nlargest(7,'scores')"
   ]
  },
  {
   "cell_type": "code",
   "execution_count": 117,
   "id": "9a09cee4",
   "metadata": {},
   "outputs": [
    {
     "name": "stdout",
     "output_type": "stream",
     "text": [
      "Highly Related Features which can be removed:                           fetaures    scores\n",
      "6          left canine width casts  9.288489\n",
      "5      left canine width intraoral  8.943845\n",
      "1  inter canine distance intraoral  8.051697\n"
     ]
    }
   ],
   "source": [
    "Highly_Related_Features = feature_scores.nlargest(3,'scores')\n",
    "print('Highly Related Features which can be removed:',Highly_Related_Features)"
   ]
  },
  {
   "cell_type": "code",
   "execution_count": 118,
   "id": "dbb5bd9f",
   "metadata": {},
   "outputs": [],
   "source": [
    "New_DF = New_DF.drop(['left canine width casts','left canine width intraoral','inter canine distance intraoral'],axis =1)"
   ]
  },
  {
   "cell_type": "code",
   "execution_count": 119,
   "id": "7fcf9891",
   "metadata": {},
   "outputs": [
    {
     "data": {
      "image/png": "[encoded data removed]",
      "text/plain": [
       "<Figure size 864x720 with 2 Axes>"
      ]
     },
     "metadata": {
      "needs_background": "light"
     },
     "output_type": "display_data"
    }
   ],
   "source": [
    "plt.figure(figsize = (12,10))\n",
    "sns.heatmap(New_DF.corr(), annot = True, cmap = plt.cm.CMRmap_r)\n",
    "plt.show()"
   ]
  },
  {
   "cell_type": "code",
   "execution_count": 120,
   "id": "4dcc65d6",
   "metadata": {},
   "outputs": [],
   "source": [
    "#After performing Chi square tests we could see still we have some highlt correlated feature.\n",
    "#Hence we need to perform Correlation"
   ]
  },
  {
   "cell_type": "code",
   "execution_count": 121,
   "id": "6a71ac72",
   "metadata": {},
   "outputs": [
    {
     "data": {
      "image/png": "[encoded data removed]",
      "text/plain": [
       "<Figure size 864x720 with 2 Axes>"
      ]
     },
     "metadata": {
      "needs_background": "light"
     },
     "output_type": "display_data"
    }
   ],
   "source": [
    "plt.figure(figsize = (12,10))\n",
    "sns.heatmap(DF.corr(), annot = True, cmap = plt.cm.CMRmap_r)\n",
    "plt.show()"
   ]
  },
  {
   "cell_type": "code",
   "execution_count": 122,
   "id": "697237ec",
   "metadata": {},
   "outputs": [],
   "source": [
    "#DF.corr()"
   ]
  },
  {
   "cell_type": "code",
   "execution_count": 123,
   "id": "20fc75ff",
   "metadata": {},
   "outputs": [],
   "source": [
    "def correlation(dataset,Threshold):\n",
    "    col_corr= set()\n",
    "    corr_matrix = dataset.corr()\n",
    "    for i in range(len(corr_matrix.columns)):\n",
    "        for j in range(i):\n",
    "            if abs(corr_matrix.iloc[i,j])>Threshold:\n",
    "                columname = corr_matrix.columns[i]\n",
    "                col_corr.add(columname)\n",
    "    return col_corr   "
   ]
  },
  {
   "cell_type": "code",
   "execution_count": 124,
   "id": "e87d0398",
   "metadata": {},
   "outputs": [
    {
     "name": "stdout",
     "output_type": "stream",
     "text": [
      "No. of High Co-related features: 3\n",
      "Highly co-related Features are: {'left canine width casts', 'left canine index casts', 'right canine width casts'}\n"
     ]
    }
   ],
   "source": [
    "correlated_features = correlation(DF,0.95)\n",
    "print('No. of High Co-related features:',len(correlated_features))\n",
    "print('Highly co-related Features are:',correlated_features)"
   ]
  },
  {
   "cell_type": "code",
   "execution_count": 125,
   "id": "a86a1a3f",
   "metadata": {},
   "outputs": [],
   "source": [
    "#left canine index casts,right canine width casts and left canine width casts can be dropped from the features for better predictio\n",
    "#due to their high collinerity\n",
    "\n",
    "DF = DF.drop(['left canine index casts','left canine width casts','right canine width casts'],axis =1)"
   ]
  },
  {
   "cell_type": "code",
   "execution_count": 126,
   "id": "4924ac14",
   "metadata": {},
   "outputs": [
    {
     "data": {
      "image/png": "[encoded data removed]",
      "text/plain": [
       "<Figure size 864x720 with 2 Axes>"
      ]
     },
     "metadata": {
      "needs_background": "light"
     },
     "output_type": "display_data"
    }
   ],
   "source": [
    "plt.figure(figsize = (12,10))\n",
    "sns.heatmap(DF.corr(),  cmap = 'coolwarm')\n",
    "plt.show()"
   ]
  },
  {
   "cell_type": "code",
   "execution_count": 127,
   "id": "240117c5",
   "metadata": {},
   "outputs": [
    {
     "data": {
      "text/plain": [
       "(1077, 9)"
      ]
     },
     "execution_count": 127,
     "metadata": {},
     "output_type": "execute_result"
    }
   ],
   "source": [
    "#Shape of Dataset before removing outliers\n",
    "DF.shape"
   ]
  },
  {
   "cell_type": "code",
   "execution_count": 128,
   "id": "85dc74cc",
   "metadata": {},
   "outputs": [
    {
     "data": {
      "text/plain": [
       "{'whiskers': [<matplotlib.lines.Line2D at 0x249c4bd9af0>,\n",
       "  <matplotlib.lines.Line2D at 0x249c4bd9430>],\n",
       " 'caps': [<matplotlib.lines.Line2D at 0x249c4bd9ee0>,\n",
       "  <matplotlib.lines.Line2D at 0x249c4ca4f10>],\n",
       " 'boxes': [<matplotlib.lines.Line2D at 0x249c4bd9c10>],\n",
       " 'medians': [<matplotlib.lines.Line2D at 0x249c4ca4910>],\n",
       " 'fliers': [<matplotlib.lines.Line2D at 0x249c4ca4610>],\n",
       " 'means': []}"
      ]
     },
     "execution_count": 128,
     "metadata": {},
     "output_type": "execute_result"
    },
    {
     "data": {
      "image/png": "[encoded data removed]",
      "text/plain": [
       "<Figure size 432x288 with 1 Axes>"
      ]
     },
     "metadata": {
      "needs_background": "light"
     },
     "output_type": "display_data"
    }
   ],
   "source": [
    "plt.boxplot(DF['left canine width intraoral'])"
   ]
  },
  {
   "cell_type": "code",
   "execution_count": 129,
   "id": "c103aadd",
   "metadata": {},
   "outputs": [
    {
     "data": {
      "text/plain": [
       "(array([0, 1, 2, 3, 4, 5, 6, 7, 8]),\n",
       " [Text(0, 0, 'Age'),\n",
       "  Text(1, 0, 'Gender'),\n",
       "  Text(2, 0, 'inter canine distance intraoral'),\n",
       "  Text(3, 0, 'intercanine distance casts'),\n",
       "  Text(4, 0, 'right canine width intraoral'),\n",
       "  Text(5, 0, 'left canine width intraoral'),\n",
       "  Text(6, 0, 'right canine index intra oral'),\n",
       "  Text(7, 0, 'right canine index casts'),\n",
       "  Text(8, 0, 'left canine index intraoral')])"
      ]
     },
     "execution_count": 129,
     "metadata": {},
     "output_type": "execute_result"
    },
    {
     "data": {
      "image/png": "[encoded data removed]",
      "text/plain": [
       "<Figure size 1440x1440 with 1 Axes>"
      ]
     },
     "metadata": {
      "needs_background": "light"
     },
     "output_type": "display_data"
    }
   ],
   "source": [
    "plt.figure(figsize=(20,20)) \n",
    "sns.boxplot(data=DF)\n",
    "plt.xticks(rotation=90)"
   ]
  },
  {
   "cell_type": "code",
   "execution_count": 130,
   "id": "767d1e79",
   "metadata": {},
   "outputs": [
    {
     "data": {
      "text/html": [
       "<div>\n",
       "<style scoped>\n",
       "    .dataframe tbody tr th:only-of-type {\n",
       "        vertical-align: middle;\n",
       "    }\n",
       "\n",
       "    .dataframe tbody tr th {\n",
       "        vertical-align: top;\n",
       "    }\n",
       "\n",
       "    .dataframe thead th {\n",
       "        text-align: right;\n",
       "    }\n",
       "</style>\n",
       "<table border=\"1\" class=\"dataframe\">\n",
       "  <thead>\n",
       "    <tr style=\"text-align: right;\">\n",
       "      <th></th>\n",
       "      <th>Age</th>\n",
       "      <th>Gender</th>\n",
       "      <th>inter canine distance intraoral</th>\n",
       "      <th>intercanine distance casts</th>\n",
       "      <th>right canine width intraoral</th>\n",
       "      <th>left canine width intraoral</th>\n",
       "      <th>right canine index intra oral</th>\n",
       "      <th>right canine index casts</th>\n",
       "      <th>left canine index intraoral</th>\n",
       "    </tr>\n",
       "  </thead>\n",
       "  <tbody>\n",
       "    <tr>\n",
       "      <th>0.25</th>\n",
       "      <td>20.0</td>\n",
       "      <td>0.0</td>\n",
       "      <td>24.99</td>\n",
       "      <td>24.97</td>\n",
       "      <td>6.29</td>\n",
       "      <td>6.40</td>\n",
       "      <td>0.242</td>\n",
       "      <td>0.242</td>\n",
       "      <td>0.247</td>\n",
       "    </tr>\n",
       "    <tr>\n",
       "      <th>0.50</th>\n",
       "      <td>22.0</td>\n",
       "      <td>1.0</td>\n",
       "      <td>25.89</td>\n",
       "      <td>25.89</td>\n",
       "      <td>6.52</td>\n",
       "      <td>6.66</td>\n",
       "      <td>0.253</td>\n",
       "      <td>0.253</td>\n",
       "      <td>0.255</td>\n",
       "    </tr>\n",
       "    <tr>\n",
       "      <th>0.75</th>\n",
       "      <td>23.0</td>\n",
       "      <td>1.0</td>\n",
       "      <td>26.98</td>\n",
       "      <td>26.98</td>\n",
       "      <td>6.80</td>\n",
       "      <td>6.90</td>\n",
       "      <td>0.262</td>\n",
       "      <td>0.261</td>\n",
       "      <td>0.264</td>\n",
       "    </tr>\n",
       "  </tbody>\n",
       "</table>\n",
       "</div>"
      ],
      "text/plain": [
       "       Age  Gender  inter canine distance intraoral  \\\n",
       "0.25  20.0     0.0                            24.99   \n",
       "0.50  22.0     1.0                            25.89   \n",
       "0.75  23.0     1.0                            26.98   \n",
       "\n",
       "      intercanine distance casts  right canine width intraoral  \\\n",
       "0.25                       24.97                          6.29   \n",
       "0.50                       25.89                          6.52   \n",
       "0.75                       26.98                          6.80   \n",
       "\n",
       "      left canine width intraoral  right canine index intra oral  \\\n",
       "0.25                         6.40                          0.242   \n",
       "0.50                         6.66                          0.253   \n",
       "0.75                         6.90                          0.262   \n",
       "\n",
       "      right canine index casts  left canine index intraoral  \n",
       "0.25                     0.242                        0.247  \n",
       "0.50                     0.253                        0.255  \n",
       "0.75                     0.261                        0.264  "
      ]
     },
     "execution_count": 130,
     "metadata": {},
     "output_type": "execute_result"
    }
   ],
   "source": [
    "DF.quantile([.25,.5,.75],axis = 0)"
   ]
  },
  {
   "cell_type": "code",
   "execution_count": 131,
   "id": "2dbdce4d",
   "metadata": {},
   "outputs": [
    {
     "data": {
      "text/html": [
       "<div>\n",
       "<style scoped>\n",
       "    .dataframe tbody tr th:only-of-type {\n",
       "        vertical-align: middle;\n",
       "    }\n",
       "\n",
       "    .dataframe tbody tr th {\n",
       "        vertical-align: top;\n",
       "    }\n",
       "\n",
       "    .dataframe thead th {\n",
       "        text-align: right;\n",
       "    }\n",
       "</style>\n",
       "<table border=\"1\" class=\"dataframe\">\n",
       "  <thead>\n",
       "    <tr style=\"text-align: right;\">\n",
       "      <th></th>\n",
       "      <th>Age</th>\n",
       "      <th>Gender</th>\n",
       "      <th>inter canine distance intraoral</th>\n",
       "      <th>intercanine distance casts</th>\n",
       "      <th>right canine width intraoral</th>\n",
       "      <th>left canine width intraoral</th>\n",
       "      <th>right canine index intra oral</th>\n",
       "      <th>right canine index casts</th>\n",
       "      <th>left canine index intraoral</th>\n",
       "    </tr>\n",
       "  </thead>\n",
       "  <tbody>\n",
       "    <tr>\n",
       "      <th>count</th>\n",
       "      <td>1077.00000</td>\n",
       "      <td>1077.000000</td>\n",
       "      <td>1077.000000</td>\n",
       "      <td>1077.000000</td>\n",
       "      <td>1077.000000</td>\n",
       "      <td>1077.000000</td>\n",
       "      <td>1077.000000</td>\n",
       "      <td>1077.000000</td>\n",
       "      <td>1077.000000</td>\n",
       "    </tr>\n",
       "    <tr>\n",
       "      <th>mean</th>\n",
       "      <td>21.62117</td>\n",
       "      <td>0.501393</td>\n",
       "      <td>25.981188</td>\n",
       "      <td>25.869842</td>\n",
       "      <td>6.560149</td>\n",
       "      <td>6.667604</td>\n",
       "      <td>0.253104</td>\n",
       "      <td>0.252319</td>\n",
       "      <td>0.256456</td>\n",
       "    </tr>\n",
       "    <tr>\n",
       "      <th>std</th>\n",
       "      <td>2.07289</td>\n",
       "      <td>0.500230</td>\n",
       "      <td>1.309747</td>\n",
       "      <td>1.867892</td>\n",
       "      <td>0.378103</td>\n",
       "      <td>0.375512</td>\n",
       "      <td>0.015395</td>\n",
       "      <td>0.012894</td>\n",
       "      <td>0.012358</td>\n",
       "    </tr>\n",
       "    <tr>\n",
       "      <th>min</th>\n",
       "      <td>18.00000</td>\n",
       "      <td>0.000000</td>\n",
       "      <td>23.120000</td>\n",
       "      <td>6.540000</td>\n",
       "      <td>5.460000</td>\n",
       "      <td>5.460000</td>\n",
       "      <td>0.223000</td>\n",
       "      <td>0.223000</td>\n",
       "      <td>0.223000</td>\n",
       "    </tr>\n",
       "    <tr>\n",
       "      <th>25%</th>\n",
       "      <td>20.00000</td>\n",
       "      <td>0.000000</td>\n",
       "      <td>24.990000</td>\n",
       "      <td>24.970000</td>\n",
       "      <td>6.290000</td>\n",
       "      <td>6.400000</td>\n",
       "      <td>0.242000</td>\n",
       "      <td>0.242000</td>\n",
       "      <td>0.247000</td>\n",
       "    </tr>\n",
       "    <tr>\n",
       "      <th>50%</th>\n",
       "      <td>22.00000</td>\n",
       "      <td>1.000000</td>\n",
       "      <td>25.890000</td>\n",
       "      <td>25.890000</td>\n",
       "      <td>6.520000</td>\n",
       "      <td>6.660000</td>\n",
       "      <td>0.253000</td>\n",
       "      <td>0.253000</td>\n",
       "      <td>0.255000</td>\n",
       "    </tr>\n",
       "    <tr>\n",
       "      <th>75%</th>\n",
       "      <td>23.00000</td>\n",
       "      <td>1.000000</td>\n",
       "      <td>26.980000</td>\n",
       "      <td>26.980000</td>\n",
       "      <td>6.800000</td>\n",
       "      <td>6.900000</td>\n",
       "      <td>0.262000</td>\n",
       "      <td>0.261000</td>\n",
       "      <td>0.264000</td>\n",
       "    </tr>\n",
       "    <tr>\n",
       "      <th>max</th>\n",
       "      <td>25.00000</td>\n",
       "      <td>1.000000</td>\n",
       "      <td>30.310000</td>\n",
       "      <td>30.310000</td>\n",
       "      <td>7.610000</td>\n",
       "      <td>7.810000</td>\n",
       "      <td>0.363000</td>\n",
       "      <td>0.302000</td>\n",
       "      <td>0.305000</td>\n",
       "    </tr>\n",
       "  </tbody>\n",
       "</table>\n",
       "</div>"
      ],
      "text/plain": [
       "              Age       Gender  inter canine distance intraoral  \\\n",
       "count  1077.00000  1077.000000                      1077.000000   \n",
       "mean     21.62117     0.501393                        25.981188   \n",
       "std       2.07289     0.500230                         1.309747   \n",
       "min      18.00000     0.000000                        23.120000   \n",
       "25%      20.00000     0.000000                        24.990000   \n",
       "50%      22.00000     1.000000                        25.890000   \n",
       "75%      23.00000     1.000000                        26.980000   \n",
       "max      25.00000     1.000000                        30.310000   \n",
       "\n",
       "       intercanine distance casts  right canine width intraoral  \\\n",
       "count                 1077.000000                   1077.000000   \n",
       "mean                    25.869842                      6.560149   \n",
       "std                      1.867892                      0.378103   \n",
       "min                      6.540000                      5.460000   \n",
       "25%                     24.970000                      6.290000   \n",
       "50%                     25.890000                      6.520000   \n",
       "75%                     26.980000                      6.800000   \n",
       "max                     30.310000                      7.610000   \n",
       "\n",
       "       left canine width intraoral  right canine index intra oral  \\\n",
       "count                  1077.000000                    1077.000000   \n",
       "mean                      6.667604                       0.253104   \n",
       "std                       0.375512                       0.015395   \n",
       "min                       5.460000                       0.223000   \n",
       "25%                       6.400000                       0.242000   \n",
       "50%                       6.660000                       0.253000   \n",
       "75%                       6.900000                       0.262000   \n",
       "max                       7.810000                       0.363000   \n",
       "\n",
       "       right canine index casts  left canine index intraoral  \n",
       "count               1077.000000                  1077.000000  \n",
       "mean                   0.252319                     0.256456  \n",
       "std                    0.012894                     0.012358  \n",
       "min                    0.223000                     0.223000  \n",
       "25%                    0.242000                     0.247000  \n",
       "50%                    0.253000                     0.255000  \n",
       "75%                    0.261000                     0.264000  \n",
       "max                    0.302000                     0.305000  "
      ]
     },
     "execution_count": 131,
     "metadata": {},
     "output_type": "execute_result"
    }
   ],
   "source": [
    "DF.describe()"
   ]
  },
  {
   "cell_type": "code",
   "execution_count": 132,
   "id": "e1e245cd",
   "metadata": {},
   "outputs": [
    {
     "data": {
      "text/plain": [
       "Index(['Age', 'Gender', 'inter canine distance intraoral',\n",
       "       'intercanine distance casts', 'right canine width intraoral',\n",
       "       'left canine width intraoral', 'right canine index intra oral',\n",
       "       'right canine index casts', 'left canine index intraoral'],\n",
       "      dtype='object')"
      ]
     },
     "execution_count": 132,
     "metadata": {},
     "output_type": "execute_result"
    }
   ],
   "source": [
    "colom = DF.columns\n",
    "colom"
   ]
  },
  {
   "cell_type": "code",
   "execution_count": 133,
   "id": "6e37f0be",
   "metadata": {},
   "outputs": [
    {
     "name": "stdout",
     "output_type": "stream",
     "text": [
      "IQR is: 1.990000000000002\n",
      "Upper Limit is: 29.965000000000003\n",
      "Lower Limit is: 22.004999999999995\n"
     ]
    }
   ],
   "source": [
    "IQR = DF['inter canine distance intraoral'].quantile(0.75) - DF['inter canine distance intraoral'].quantile(0.25)\n",
    "Upper_Limit = DF['inter canine distance intraoral'].quantile(0.75) + 1.5 * IQR\n",
    "Lower_Limit = DF['inter canine distance intraoral'].quantile(0.25) - 1.5 * IQR\n",
    "\n",
    "print('IQR is:',IQR)\n",
    "print('Upper Limit is:',Upper_Limit)\n",
    "print('Lower Limit is:',Lower_Limit)"
   ]
  },
  {
   "cell_type": "code",
   "execution_count": 134,
   "id": "f04f7a13",
   "metadata": {},
   "outputs": [],
   "source": [
    "Data = DF['inter canine distance intraoral']"
   ]
  },
  {
   "cell_type": "code",
   "execution_count": 135,
   "id": "a852ee90",
   "metadata": {},
   "outputs": [
    {
     "name": "stdout",
     "output_type": "stream",
     "text": [
      " outlier in the dataset is [30.31, 30.03]\n"
     ]
    }
   ],
   "source": [
    "outlier = []\n",
    "for x in Data:\n",
    "    if (x>Upper_Limit) or (x<Lower_Limit):\n",
    "        outlier.append(x)\n",
    "print(' outlier in the dataset is', outlier)"
   ]
  },
  {
   "cell_type": "code",
   "execution_count": 136,
   "id": "506abf55",
   "metadata": {},
   "outputs": [],
   "source": [
    "def outliers(df,field):\n",
    "    IQR = df[field].quantile(0.75) - df[field].quantile(0.25)\n",
    "    Upper_Limit = df[field].quantile(0.65) + 1.5 * IQR\n",
    "    Lower_Limit = df[field].quantile(0.25) - 1.5 * IQR\n",
    "    ls = df.index[(df[field]<Lower_Limit) | (df[field]>Upper_Limit)]\n",
    "    return ls\n",
    "\n",
    "index_list = []\n",
    "\n",
    "for feature in colom:\n",
    "    index_list.extend(outliers(DF,feature))\n",
    "\n"
   ]
  },
  {
   "cell_type": "code",
   "execution_count": 137,
   "id": "274f76c3",
   "metadata": {},
   "outputs": [
    {
     "data": {
      "text/plain": [
       "[66,\n",
       " 760,\n",
       " 762,\n",
       " 66,\n",
       " 90,\n",
       " 760,\n",
       " 762,\n",
       " 1000,\n",
       " 1001,\n",
       " 1002,\n",
       " 1003,\n",
       " 1004,\n",
       " 1005,\n",
       " 1006,\n",
       " 1007,\n",
       " 1008,\n",
       " 1009,\n",
       " 45,\n",
       " 54,\n",
       " 61,\n",
       " 559,\n",
       " 691,\n",
       " 700,\n",
       " 705,\n",
       " 710,\n",
       " 712,\n",
       " 715,\n",
       " 717,\n",
       " 731,\n",
       " 736,\n",
       " 767,\n",
       " 45,\n",
       " 54,\n",
       " 61,\n",
       " 550,\n",
       " 559,\n",
       " 640,\n",
       " 641,\n",
       " 644,\n",
       " 645,\n",
       " 649,\n",
       " 666,\n",
       " 691,\n",
       " 700,\n",
       " 710,\n",
       " 712,\n",
       " 715,\n",
       " 717,\n",
       " 731,\n",
       " 34,\n",
       " 57,\n",
       " 422,\n",
       " 423,\n",
       " 428,\n",
       " 441,\n",
       " 442,\n",
       " 444,\n",
       " 446,\n",
       " 447,\n",
       " 485,\n",
       " 613,\n",
       " 673,\n",
       " 677,\n",
       " 679,\n",
       " 686,\n",
       " 692,\n",
       " 693,\n",
       " 706,\n",
       " 57,\n",
       " 613,\n",
       " 671,\n",
       " 673,\n",
       " 677,\n",
       " 679,\n",
       " 686,\n",
       " 692,\n",
       " 693,\n",
       " 706,\n",
       " 57,\n",
       " 62,\n",
       " 613,\n",
       " 671,\n",
       " 673,\n",
       " 677,\n",
       " 679,\n",
       " 686,\n",
       " 692,\n",
       " 693,\n",
       " 706,\n",
       " 721,\n",
       " 723,\n",
       " 724,\n",
       " 725,\n",
       " 728,\n",
       " 729,\n",
       " 739]"
      ]
     },
     "execution_count": 137,
     "metadata": {},
     "output_type": "execute_result"
    }
   ],
   "source": [
    "index_list "
   ]
  },
  {
   "cell_type": "code",
   "execution_count": 138,
   "id": "8cd2b38d",
   "metadata": {},
   "outputs": [],
   "source": [
    "def remove_outliers(df,ls):\n",
    "    ls = sorted(set(ls))\n",
    "    df = df.drop(ls)\n",
    "    return df"
   ]
  },
  {
   "cell_type": "code",
   "execution_count": 139,
   "id": "b90b78dc",
   "metadata": {},
   "outputs": [],
   "source": [
    "DF = remove_outliers(DF,index_list)"
   ]
  },
  {
   "cell_type": "code",
   "execution_count": 140,
   "id": "f5c689c9",
   "metadata": {},
   "outputs": [
    {
     "data": {
      "text/plain": [
       "(1014, 9)"
      ]
     },
     "execution_count": 140,
     "metadata": {},
     "output_type": "execute_result"
    }
   ],
   "source": [
    "#Shape of dataset after removing outliers\n",
    "DF.shape"
   ]
  },
  {
   "cell_type": "code",
   "execution_count": 141,
   "id": "a323582f",
   "metadata": {},
   "outputs": [],
   "source": [
    "#check = 30.31\n",
    "#check"
   ]
  },
  {
   "cell_type": "code",
   "execution_count": 142,
   "id": "a86076ba",
   "metadata": {},
   "outputs": [],
   "source": [
    "#if check not in DF.values :\n",
    "#    print(\"\\nFor Loop worked\")\n",
    "#else :\n",
    "#    print(\"\\nFor Loop failed\")"
   ]
  },
  {
   "cell_type": "code",
   "execution_count": 143,
   "id": "3796a769",
   "metadata": {},
   "outputs": [
    {
     "data": {
      "text/plain": [
       "(array([0, 1, 2, 3, 4, 5, 6, 7, 8]),\n",
       " [Text(0, 0, 'Age'),\n",
       "  Text(1, 0, 'Gender'),\n",
       "  Text(2, 0, 'inter canine distance intraoral'),\n",
       "  Text(3, 0, 'intercanine distance casts'),\n",
       "  Text(4, 0, 'right canine width intraoral'),\n",
       "  Text(5, 0, 'left canine width intraoral'),\n",
       "  Text(6, 0, 'right canine index intra oral'),\n",
       "  Text(7, 0, 'right canine index casts'),\n",
       "  Text(8, 0, 'left canine index intraoral')])"
      ]
     },
     "execution_count": 143,
     "metadata": {},
     "output_type": "execute_result"
    },
    {
     "data": {
      "image/png": "[encoded data removed]",
      "text/plain": [
       "<Figure size 1440x1440 with 1 Axes>"
      ]
     },
     "metadata": {
      "needs_background": "light"
     },
     "output_type": "display_data"
    }
   ],
   "source": [
    "plt.figure(figsize=(20,20)) \n",
    "sns.boxplot(data=DF)\n",
    "plt.xticks(rotation=90)"
   ]
  },
  {
   "cell_type": "code",
   "execution_count": 144,
   "id": "0e27809b",
   "metadata": {},
   "outputs": [],
   "source": [
    "X = DF.drop('Gender',axis = 1)\n",
    "y = DF['Gender']"
   ]
  },
  {
   "cell_type": "code",
   "execution_count": 145,
   "id": "f870d85a",
   "metadata": {},
   "outputs": [
    {
     "data": {
      "text/plain": [
       "(1014, 8)"
      ]
     },
     "execution_count": 145,
     "metadata": {},
     "output_type": "execute_result"
    }
   ],
   "source": [
    "X.shape"
   ]
  },
  {
   "cell_type": "code",
   "execution_count": 146,
   "id": "ba6d8106",
   "metadata": {},
   "outputs": [
    {
     "data": {
      "text/plain": [
       "(1014,)"
      ]
     },
     "execution_count": 146,
     "metadata": {},
     "output_type": "execute_result"
    }
   ],
   "source": [
    "y.shape"
   ]
  },
  {
   "cell_type": "code",
   "execution_count": 147,
   "id": "13b7bfdf",
   "metadata": {},
   "outputs": [],
   "source": [
    "X_train, X_test, y_train, y_test = train_test_split(X, y, test_size=0.25, random_state=100)"
   ]
  },
  {
   "cell_type": "code",
   "execution_count": 148,
   "id": "4a3504db",
   "metadata": {},
   "outputs": [
    {
     "data": {
      "text/plain": [
       "(760, 8)"
      ]
     },
     "execution_count": 148,
     "metadata": {},
     "output_type": "execute_result"
    }
   ],
   "source": [
    "X_train.shape"
   ]
  },
  {
   "cell_type": "code",
   "execution_count": 149,
   "id": "3aa7fed6",
   "metadata": {},
   "outputs": [
    {
     "data": {
      "text/plain": [
       "(254, 8)"
      ]
     },
     "execution_count": 149,
     "metadata": {},
     "output_type": "execute_result"
    }
   ],
   "source": [
    "X_test.shape"
   ]
  },
  {
   "cell_type": "code",
   "execution_count": 150,
   "id": "0580ffac",
   "metadata": {},
   "outputs": [
    {
     "data": {
      "text/plain": [
       "(760,)"
      ]
     },
     "execution_count": 150,
     "metadata": {},
     "output_type": "execute_result"
    }
   ],
   "source": [
    "y_train.shape"
   ]
  },
  {
   "cell_type": "code",
   "execution_count": 151,
   "id": "9112ee3f",
   "metadata": {},
   "outputs": [
    {
     "data": {
      "text/plain": [
       "(254,)"
      ]
     },
     "execution_count": 151,
     "metadata": {},
     "output_type": "execute_result"
    }
   ],
   "source": [
    "y_test.shape"
   ]
  },
  {
   "cell_type": "code",
   "execution_count": 152,
   "id": "5642d985",
   "metadata": {},
   "outputs": [
    {
     "data": {
      "text/plain": [
       "921    1\n",
       "50     1\n",
       "372    0\n",
       "563    0\n",
       "157    0\n",
       "Name: Gender, dtype: int32"
      ]
     },
     "execution_count": 152,
     "metadata": {},
     "output_type": "execute_result"
    }
   ],
   "source": [
    "y_test.head()"
   ]
  },
  {
   "cell_type": "code",
   "execution_count": 153,
   "id": "a340a4ad",
   "metadata": {},
   "outputs": [
    {
     "data": {
      "text/plain": [
       "StandardScaler()"
      ]
     },
     "execution_count": 153,
     "metadata": {},
     "output_type": "execute_result"
    }
   ],
   "source": [
    "scaler = StandardScaler()\n",
    "scaler"
   ]
  },
  {
   "cell_type": "code",
   "execution_count": 154,
   "id": "37e6cb28",
   "metadata": {},
   "outputs": [],
   "source": [
    "train_vars = X_train.columns\n",
    "\n",
    "\n",
    "X_train[train_vars] = scaler.fit_transform(X_train[train_vars])\n",
    "X_test[train_vars] = scaler.transform(X_test[train_vars])\n",
    "\n",
    "#X_train = scaler.fit_transform(X_train)\n",
    "#X_test = scaler.fit_transform(X_test)"
   ]
  },
  {
   "cell_type": "code",
   "execution_count": 155,
   "id": "141c0e6d",
   "metadata": {},
   "outputs": [
    {
     "data": {
      "text/html": [
       "<div>\n",
       "<style scoped>\n",
       "    .dataframe tbody tr th:only-of-type {\n",
       "        vertical-align: middle;\n",
       "    }\n",
       "\n",
       "    .dataframe tbody tr th {\n",
       "        vertical-align: top;\n",
       "    }\n",
       "\n",
       "    .dataframe thead th {\n",
       "        text-align: right;\n",
       "    }\n",
       "</style>\n",
       "<table border=\"1\" class=\"dataframe\">\n",
       "  <thead>\n",
       "    <tr style=\"text-align: right;\">\n",
       "      <th></th>\n",
       "      <th>Age</th>\n",
       "      <th>inter canine distance intraoral</th>\n",
       "      <th>intercanine distance casts</th>\n",
       "      <th>right canine width intraoral</th>\n",
       "      <th>left canine width intraoral</th>\n",
       "      <th>right canine index intra oral</th>\n",
       "      <th>right canine index casts</th>\n",
       "      <th>left canine index intraoral</th>\n",
       "    </tr>\n",
       "  </thead>\n",
       "  <tbody>\n",
       "    <tr>\n",
       "      <th>868</th>\n",
       "      <td>-0.311736</td>\n",
       "      <td>-1.306066</td>\n",
       "      <td>-1.307239</td>\n",
       "      <td>-0.199991</td>\n",
       "      <td>0.837722</td>\n",
       "      <td>1.116140</td>\n",
       "      <td>1.121704</td>\n",
       "      <td>2.571718</td>\n",
       "    </tr>\n",
       "    <tr>\n",
       "      <th>160</th>\n",
       "      <td>-0.311736</td>\n",
       "      <td>1.045920</td>\n",
       "      <td>1.075871</td>\n",
       "      <td>-0.679196</td>\n",
       "      <td>0.093114</td>\n",
       "      <td>-1.784625</td>\n",
       "      <td>-1.785284</td>\n",
       "      <td>-1.014531</td>\n",
       "    </tr>\n",
       "    <tr>\n",
       "      <th>990</th>\n",
       "      <td>-0.311736</td>\n",
       "      <td>1.261187</td>\n",
       "      <td>1.259187</td>\n",
       "      <td>1.491324</td>\n",
       "      <td>1.210026</td>\n",
       "      <td>0.453108</td>\n",
       "      <td>0.457250</td>\n",
       "      <td>0.122572</td>\n",
       "    </tr>\n",
       "    <tr>\n",
       "      <th>414</th>\n",
       "      <td>0.169808</td>\n",
       "      <td>-0.947288</td>\n",
       "      <td>-0.948577</td>\n",
       "      <td>0.194650</td>\n",
       "      <td>-0.107358</td>\n",
       "      <td>1.199019</td>\n",
       "      <td>1.204761</td>\n",
       "      <td>0.909798</td>\n",
       "    </tr>\n",
       "    <tr>\n",
       "      <th>281</th>\n",
       "      <td>1.132895</td>\n",
       "      <td>1.524291</td>\n",
       "      <td>1.522206</td>\n",
       "      <td>1.463135</td>\n",
       "      <td>1.210026</td>\n",
       "      <td>0.121592</td>\n",
       "      <td>0.125022</td>\n",
       "      <td>-0.314775</td>\n",
       "    </tr>\n",
       "  </tbody>\n",
       "</table>\n",
       "</div>"
      ],
      "text/plain": [
       "          Age  inter canine distance intraoral  intercanine distance casts  \\\n",
       "868 -0.311736                        -1.306066                   -1.307239   \n",
       "160 -0.311736                         1.045920                    1.075871   \n",
       "990 -0.311736                         1.261187                    1.259187   \n",
       "414  0.169808                        -0.947288                   -0.948577   \n",
       "281  1.132895                         1.524291                    1.522206   \n",
       "\n",
       "     right canine width intraoral  left canine width intraoral  \\\n",
       "868                     -0.199991                     0.837722   \n",
       "160                     -0.679196                     0.093114   \n",
       "990                      1.491324                     1.210026   \n",
       "414                      0.194650                    -0.107358   \n",
       "281                      1.463135                     1.210026   \n",
       "\n",
       "     right canine index intra oral  right canine index casts  \\\n",
       "868                       1.116140                  1.121704   \n",
       "160                      -1.784625                 -1.785284   \n",
       "990                       0.453108                  0.457250   \n",
       "414                       1.199019                  1.204761   \n",
       "281                       0.121592                  0.125022   \n",
       "\n",
       "     left canine index intraoral  \n",
       "868                     2.571718  \n",
       "160                    -1.014531  \n",
       "990                     0.122572  \n",
       "414                     0.909798  \n",
       "281                    -0.314775  "
      ]
     },
     "execution_count": 155,
     "metadata": {},
     "output_type": "execute_result"
    }
   ],
   "source": [
    "X_train.head()"
   ]
  },
  {
   "cell_type": "code",
   "execution_count": 156,
   "id": "51106e45",
   "metadata": {},
   "outputs": [],
   "source": [
    "from sklearn import metrics\n",
    "from sklearn.metrics import roc_curve, auc, roc_auc_score\n",
    "from sklearn.metrics import classification_report, confusion_matrix\n",
    "from sklearn.metrics import average_precision_score, precision_recall_curve\n",
    "from sklearn.model_selection import GridSearchCV,RandomizedSearchCV\n",
    "from sklearn.linear_model import Ridge, Lasso,LogisticRegression,LogisticRegressionCV\n",
    "from sklearn.neighbors import KNeighborsClassifier\n",
    "from sklearn.tree import DecisionTreeClassifier\n",
    "\n",
    "from sklearn.ensemble import AdaBoostClassifier, RandomForestClassifier\n",
    "import  xgboost as xgb\n",
    "from xgboost import XGBClassifier,plot_importance\n",
    "import io\n",
    "import time"
   ]
  },
  {
   "cell_type": "code",
   "execution_count": 157,
   "id": "1392fb84",
   "metadata": {},
   "outputs": [],
   "source": [
    "df_results = pd.DataFrame(columns=['Methodology','Model','Accuracy','roc_value','threshold'])"
   ]
  },
  {
   "cell_type": "code",
   "execution_count": 158,
   "id": "7f58b594",
   "metadata": {},
   "outputs": [],
   "source": [
    "#plot common function to plot confusion matrix\n",
    "def plot_confusion_matrix(y_test,pred_test):\n",
    "  cm = confusion_matrix(y_test,pred_test)\n",
    "  plt.clf()\n",
    "  plt.imshow(cm,interpolation = 'nearest', cmap = plt.cm.Accent)\n",
    "  categoryNames = ['Male','Female']\n",
    "  plt.title = ('Confusion Matrix -Test Data')\n",
    "  plt.ylabel = ('True Data')\n",
    "  plt.xlabel = ('Predicted Data')\n",
    "  ticks = np.arange(len(categoryNames))  #which is 2 in this case as it has 2 values\n",
    "  plt.xticks(ticks, categoryNames, rotation = 45)\n",
    "  plt.yticks(ticks, categoryNames,)\n",
    "  s = [['TN','FP'],['FN','TP']]\n",
    "\n",
    "  for i in range(2):\n",
    "    for j in range(2):\n",
    "      plt.text(j,i, str(s[i][j])+ ' = '+str(cm[i][j]),fontsize =14)\n",
    "  plt.show()"
   ]
  },
  {
   "cell_type": "code",
   "execution_count": 159,
   "id": "cdf598a1",
   "metadata": {},
   "outputs": [],
   "source": [
    "#Create a common function to fit and predict on a logistic regression model for both L1 and L2\n",
    "\n",
    "def build_and_run_logisticmodels(df_results,Methodology,X_train, X_test, y_train, y_test):\n",
    "  from sklearn import linear_model\n",
    "  from sklearn.model_selection import KFold\n",
    "  num_C =list(np.power(10.0, np.arange(-10,10)))\n",
    "  cv_num= KFold(n_splits= 10, shuffle= True, random_state=42)\n",
    "\n",
    "  SearchCV_l2 = linear_model.LogisticRegressionCV(Cs = num_C,penalty ='l2',scoring = 'roc_auc',cv = cv_num,random_state= 42,max_iter =10000,fit_intercept = True,solver = 'newton-cg',tol =10)\n",
    "  SearchCV_l1 = linear_model.LogisticRegressionCV(Cs = num_C,penalty ='l1',scoring = 'roc_auc',cv = cv_num,random_state= 42,max_iter =10000,fit_intercept = True,solver = 'liblinear',tol =10)\n",
    "\n",
    "  #train the model\n",
    "  SearchCV_l2.fit(X_train,y_train)\n",
    "  SearchCV_l1.fit(X_train,y_train)\n",
    "  print ('Max auc_roc for l1:', SearchCV_l1.scores_[1].mean(axis = 0).max())\n",
    "  print ('Max auc_roc for l2:', SearchCV_l2.scores_[1].mean(axis = 0).max())\n",
    "  \n",
    "\n",
    "  print('parameters for L1 regularistions')\n",
    "  print(SearchCV_l1.coef_)\n",
    "  print(SearchCV_l1.intercept_)\n",
    "  print(SearchCV_l1.score)\n",
    "\n",
    "  print('parameters for L2 regularistions')\n",
    "  print(SearchCV_l2.coef_)\n",
    "  print(SearchCV_l2.intercept_)\n",
    "  print(SearchCV_l2.score)\n",
    "\n",
    "  #find predicted values\n",
    "  y_pred_l1 = SearchCV_l1.predict(X_test)\n",
    "  y_pred_l2 = SearchCV_l2.predict(X_test)\n",
    "\n",
    "  #find predicted probabilities\n",
    "  y_pred_l1_prob_predict = SearchCV_l1.predict_proba(X_test)[:,1]\n",
    "  y_pred_l2_prob_predict = SearchCV_l2.predict_proba(X_test)[:,1]\n",
    "  \n",
    "  #Accuracy score of L1/L2 model\n",
    "  Accuracy_l2 = metrics.accuracy_score(y_pred =y_pred_l2 ,y_true = y_test)\n",
    "  Accuracy_l1 = metrics.accuracy_score(y_pred =y_pred_l1 ,y_true = y_test)\n",
    "\n",
    "  print('Accuracy of logistic model with L2 regulrisation: {0}',format(Accuracy_l2))\n",
    "  print('confusion Matrix')\n",
    "  plot_confusion_matrix(y_test,y_pred_l2)\n",
    "  print('Classification Report')\n",
    "  print(classification_report(y_test,y_pred_l2))\n",
    "\n",
    "  print('Accuracy of logistic model with L1 regulrisation: {0}',format(Accuracy_l1))\n",
    "  print('confusion Matrix')\n",
    "  plot_confusion_matrix(y_test,y_pred_l1)\n",
    "  print('Classification Report')\n",
    "  print(classification_report(y_test,y_pred_l1))\n",
    "\n",
    "  l2_roc_value = roc_auc_score(y_test,y_pred_l2_prob_predict)\n",
    "  print('L2 ROC VALUE:{0}'.format(l2_roc_value))\n",
    "  fpr,tpr,thresholds = metrics.roc_curve(y_test,y_pred_l2_prob_predict)\n",
    "  Threshold2 = thresholds[np.argmax(fpr-tpr)]\n",
    "  print('L2 Threshold value:{0}'.format(Threshold2))\n",
    "\n",
    "  roc_auc = metrics.auc(fpr,tpr)\n",
    "  print('ROC of the test dataset','{:.1%}'.format(roc_auc))\n",
    "  plt.plot(fpr,tpr,label = 'test, auc=' +str(roc_auc))\n",
    "  plt.legend(loc =4)\n",
    "  plt.show\n",
    "\n",
    "  df_results =df_results.append(pd.DataFrame({'Methodology': Methodology, 'Model':'Logistic Regression with L2 Regularistion','Accuracy': Accuracy_l2,'roc_value': l2_roc_value,'threshold':Threshold2}, index = [0]), ignore_index = True)\n",
    "  \n",
    "  l1_roc_value = roc_auc_score(y_test,y_pred_l1_prob_predict)\n",
    "  print('L1 ROC VALUE:{0}'.format(l1_roc_value))\n",
    "  fpr,tpr,thresholds = metrics.roc_curve(y_test,y_pred_l1_prob_predict)\n",
    "  Threshold1 = thresholds[np.argmax(fpr-tpr)]\n",
    "  print('L1 Threshold value:{0}'.format(Threshold1))\n",
    "\n",
    "  roc_auc = metrics.auc(fpr,tpr)\n",
    "  print('ROC of the test dataset','{:.1%}'.format(roc_auc))\n",
    "  plt.plot(fpr,tpr,label = 'test, auc=' +str(roc_auc))\n",
    "  plt.legend(loc =4)\n",
    "  plt.show\n",
    "\n",
    "  df_results =df_results.append(pd.DataFrame({'Methodology': Methodology, 'Model':'Logistic Regression with L1 Regularistion','Accuracy': Accuracy_l1,'roc_value': l1_roc_value,'threshold':Threshold1}, index = [0]), ignore_index = True)\n",
    "  \n",
    "  return df_results\n",
    "  "
   ]
  },
  {
   "cell_type": "code",
   "execution_count": 160,
   "id": "40a3f4a3",
   "metadata": {},
   "outputs": [],
   "source": [
    "def build_and_run_KNNmodels(df_results,Methodology,X_train,y_train, X_test, y_test):\n",
    "  KNN = KNeighborsClassifier(n_neighbors=5, n_jobs=16)\n",
    "  KNN.fit(X_train,y_train)\n",
    "  y_pred = KNN.predict(X_test)\n",
    "  score = KNN.score(X_test,y_test)\n",
    "  print('Model score')\n",
    "  print(score)\n",
    "\n",
    "  #Accuracy\n",
    "  KNN_Accuracy = metrics.accuracy_score(y_true = y_test, y_pred = y_pred)\n",
    "  print('Classification report')\n",
    "  print(classification_report(y_test, y_pred))\n",
    "\n",
    "  #Fetching Probility\n",
    "  KNN_Probabs = KNN.predict_proba(X_test)[:,1]\n",
    "\n",
    "  #CALCULATE ROC_AUC\n",
    "  KNN_ROC_VALUE = roc_auc_score(y_test,KNN_Probabs)\n",
    "  print('KNN ROC_AUC value: {0}'.format(KNN_ROC_VALUE))\n",
    "  fpr,tpr,thresholds = metrics.roc_curve(y_test,KNN_Probabs)\n",
    "  THRESHOLD_KNN = thresholds[np.argmax(tpr-fpr)]\n",
    "  print('knn threshold value: {0}'.format(THRESHOLD_KNN))\n",
    "\n",
    "  roc_auc = metrics.auc(fpr,tpr)\n",
    "  print('ROC for the test dataset', '{:.1%}'.format(roc_auc))\n",
    "  plt.plot(fpr,tpr,label = 'Test, AUC='+str(roc_auc))\n",
    "  plt.legend(loc = 4)\n",
    "  plt.show()\n",
    "  \n",
    "  df_results =df_results.append(pd.DataFrame({'Methodology': Methodology, 'Model':'KNN','Accuracy': KNN_Accuracy,'roc_value': KNN_ROC_VALUE,'threshold':THRESHOLD_KNN}, index = [0]), ignore_index = True)\n",
    "  \n",
    "  return df_results\n"
   ]
  },
  {
   "cell_type": "code",
   "execution_count": 161,
   "id": "6950117e",
   "metadata": {},
   "outputs": [],
   "source": [
    "#Create a common function to fit and predict on a Tree models for both Gini and Entropy criteria\n",
    "\n",
    "def build_and_run_Treemodels(df_results,Methodology,X_train,y_train, X_test, y_test):\n",
    "  \n",
    "  #Evaluate tree model based on based on 'gini' and 'Entropy'\n",
    "  criteria = ['gini','entropy']\n",
    "  scores = {}\n",
    "  for c in criteria:\n",
    "    DT = DecisionTreeClassifier(criterion=c, random_state=42)\n",
    "    DT.fit(X_train,y_train)\n",
    "    y_pred = DT.predict(X_test)\n",
    "    score = DT.score(X_test,y_test)\n",
    "    DT_Probabs = DT.predict_proba(X_test)[:,1]\n",
    "    \n",
    "\n",
    "    #Accuracy\n",
    "    print(c+ 'Model score: {0}'.format(score))\n",
    "    print('Confusion Matrix')\n",
    "    plot_confusion_matrix(y_test,y_pred)\n",
    "    print('Classification report')\n",
    "    print(classification_report(y_test, y_pred))\n",
    "    #CALCULATE ROC_AUC\n",
    "    Decisiontree_ROC_VALUE = roc_auc_score(y_test,DT_Probabs)\n",
    "    print('Decisiontree ROC_AUC value: {0}'.format(Decisiontree_ROC_VALUE))\n",
    "    fpr,tpr,thresholds = metrics.roc_curve(y_test,DT_Probabs)\n",
    "    THRESHOLD_Decisiontree = thresholds[np.argmax(tpr-fpr)]\n",
    "    print('Decisiontree threshold value: {0}'.format(THRESHOLD_Decisiontree))\n",
    "\n",
    "    roc_auc = metrics.auc(fpr,tpr)\n",
    "    print('ROC for the test dataset', '{:.1%}'.format(roc_auc))\n",
    "    plt.plot(fpr,tpr,label = 'Test, AUC='+str(roc_auc))\n",
    "    plt.legend(loc = 4)\n",
    "    plt.show()\n",
    "  \n",
    "    df_results =df_results.append(pd.DataFrame({'Methodology': Methodology, 'Model':'Tree Model with {0} criteria '.format(c),'Accuracy': score,'roc_value': Decisiontree_ROC_VALUE,'threshold':THRESHOLD_Decisiontree}, index = [0]), ignore_index = True)\n",
    "  \n",
    "  return df_results\n"
   ]
  },
  {
   "cell_type": "code",
   "execution_count": 162,
   "id": "b8f3c2b3",
   "metadata": {},
   "outputs": [],
   "source": [
    "#Create a common function to fit and predict on a Random Forest  models \n",
    "\n",
    "def build_and_run_RFmodels(df_results,Methodology,X_train,y_train, X_test, y_test):\n",
    "    \n",
    "    #CREATE THE MODEL WITH 100 TREES\n",
    "\n",
    "    RFM = RandomForestClassifier(n_estimators=100, max_features=\"sqrt\", bootstrap=True, random_state=42)\n",
    "    RFM.fit(X_train,y_train)\n",
    "    RFM_Score = RFM.score(X_test,y_test)\n",
    "    y_pred = RFM.predict(X_test)\n",
    "    RFM_pred_prob = RFM.predict_proba(X_test)[:,1]\n",
    "    \n",
    "    #Accuracy\n",
    "    print('Model score: {0}'.format(RFM_Score))\n",
    "    print('Confusion Matrix')\n",
    "    plot_confusion_matrix(y_test,y_pred)\n",
    "    print('Classification Report')\n",
    "    print(classification_report(y_test, y_pred))\n",
    "\n",
    "    #ROC_AUC\n",
    "    RFM_ROC_VALUE = roc_auc_score(y_test,RFM_pred_prob)\n",
    "    print('Random Forest tree ROC_AUC value: {0}'.format(RFM_ROC_VALUE))\n",
    "    fpr,tpr,thresholds = metrics.roc_curve(y_test,RFM_pred_prob)\n",
    "    THRESHOLD_RFM = thresholds[np.argmax(tpr-fpr)]\n",
    "    print('Random Forest tree threshold value: {0}'.format(THRESHOLD_RFM))\n",
    "\n",
    "    roc_auc = metrics.auc(fpr,tpr)\n",
    "    print('ROC for the test dataset', '{:.1%}'.format(roc_auc))\n",
    "    plt.plot(fpr,tpr,label = 'Test, AUC='+str(roc_auc))\n",
    "    plt.legend(loc = 4)\n",
    "    plt.show()  \n",
    "  \n",
    "    df_results =df_results.append(pd.DataFrame({'Methodology': Methodology, 'Model':'Random Forest','Accuracy': RFM_Score,'roc_value': RFM_ROC_VALUE,'threshold':THRESHOLD_RFM}, index = [0]), ignore_index = True)\n",
    "\n",
    "    return df_results\n",
    "\n",
    "\n",
    "\n"
   ]
  },
  {
   "cell_type": "code",
   "execution_count": 163,
   "id": "22420c4e",
   "metadata": {},
   "outputs": [],
   "source": [
    "#Create a common function to fit and predict on a Random Forest  models \n",
    "\n",
    "def build_and_run_RFmodels(df_results,Methodology,X_train,y_train, X_test, y_test):\n",
    "    \n",
    "    #CREATE THE MODEL WITH 100 TREES\n",
    "\n",
    "    RFM = RandomForestClassifier(n_estimators=100, max_features=\"sqrt\", bootstrap=True, random_state=42)\n",
    "    RFM.fit(X_train,y_train)\n",
    "    RFM_Score = RFM.score(X_test,y_test)\n",
    "    y_pred = RFM.predict(X_test)\n",
    "    RFM_pred_prob = RFM.predict_proba(X_test)[:,1]\n",
    "    \n",
    "    #Accuracy\n",
    "    print('Model score: {0}'.format(RFM_Score))\n",
    "    print('Confusion Matrix')\n",
    "    plot_confusion_matrix(y_test,y_pred)\n",
    "    print('Classification Report')\n",
    "    print(classification_report(y_test, y_pred))\n",
    "\n",
    "    #ROC_AUC\n",
    "    RFM_ROC_VALUE = roc_auc_score(y_test,RFM_pred_prob)\n",
    "    print('Random Forest tree ROC_AUC value: {0}'.format(RFM_ROC_VALUE))\n",
    "    fpr,tpr,thresholds = metrics.roc_curve(y_test,RFM_pred_prob)\n",
    "    THRESHOLD_RFM = thresholds[np.argmax(tpr-fpr)]\n",
    "    print('Random Forest tree threshold value: {0}'.format(THRESHOLD_RFM))\n",
    "\n",
    "    roc_auc = metrics.auc(fpr,tpr)\n",
    "    print('ROC for the test dataset', '{:.1%}'.format(roc_auc))\n",
    "    plt.plot(fpr,tpr,label = 'Test, AUC='+str(roc_auc))\n",
    "    plt.legend(loc = 4)\n",
    "    plt.show()  \n",
    "  \n",
    "    df_results =df_results.append(pd.DataFrame({'Methodology': Methodology, 'Model':'Random Forest','Accuracy': RFM_Score,'roc_value': RFM_ROC_VALUE,'threshold':THRESHOLD_RFM}, index = [0]), ignore_index = True)\n",
    "\n",
    "    return df_results\n",
    "\n",
    "\n",
    "\n"
   ]
  },
  {
   "cell_type": "code",
   "execution_count": 164,
   "id": "befd4b93",
   "metadata": {},
   "outputs": [],
   "source": [
    "#Create a common function to fit and predict on a Random Forest  models \n",
    "\n",
    "def build_and_run_RFmodels(df_results,Methodology,X_train,y_train, X_test, y_test):\n",
    "    \n",
    "    #CREATE THE MODEL WITH 100 TREES\n",
    "\n",
    "    RFM = RandomForestClassifier(n_estimators=100, max_features=\"sqrt\", bootstrap=True, random_state=42)\n",
    "    RFM.fit(X_train,y_train)\n",
    "    RFM_Score = RFM.score(X_test,y_test)\n",
    "    y_pred = RFM.predict(X_test)\n",
    "    RFM_pred_prob = RFM.predict_proba(X_test)[:,1]\n",
    "    \n",
    "    #Accuracy\n",
    "    print('Model score: {0}'.format(RFM_Score))\n",
    "    print('Confusion Matrix')\n",
    "    plot_confusion_matrix(y_test,y_pred)\n",
    "    print('Classification Report')\n",
    "    print(classification_report(y_test, y_pred))\n",
    "\n",
    "    #ROC_AUC\n",
    "    RFM_ROC_VALUE = roc_auc_score(y_test,RFM_pred_prob)\n",
    "    print('Random Forest tree ROC_AUC value: {0}'.format(RFM_ROC_VALUE))\n",
    "    fpr,tpr,thresholds = metrics.roc_curve(y_test,RFM_pred_prob)\n",
    "    THRESHOLD_RFM = thresholds[np.argmax(tpr-fpr)]\n",
    "    print('Random Forest tree threshold value: {0}'.format(THRESHOLD_RFM))\n",
    "\n",
    "    roc_auc = metrics.auc(fpr,tpr)\n",
    "    print('ROC for the test dataset', '{:.1%}'.format(roc_auc))\n",
    "    plt.plot(fpr,tpr,label = 'Test, AUC='+str(roc_auc))\n",
    "    plt.legend(loc = 4)\n",
    "    plt.show()  \n",
    "  \n",
    "    df_results =df_results.append(pd.DataFrame({'Methodology': Methodology, 'Model':'Random Forest','Accuracy': RFM_Score,'roc_value': RFM_ROC_VALUE,'threshold':THRESHOLD_RFM}, index = [0]), ignore_index = True)\n",
    "\n",
    "    return df_results\n",
    "\n",
    "\n",
    "\n"
   ]
  },
  {
   "cell_type": "code",
   "execution_count": 165,
   "id": "dd7a007b",
   "metadata": {},
   "outputs": [],
   "source": [
    "# Created a common function to fit and predict on a XGBoost model\n",
    "def buildAndRunXGBoostModels(df_Results, Methodology,X_train,y_train, X_test, y_test ):\n",
    "  #Evaluate XGboost model\n",
    "  XGBmodel = XGBClassifier(random_state=42)\n",
    "  XGBmodel.fit(X_train, y_train)\n",
    "  y_pred = XGBmodel.predict(X_test)\n",
    "\n",
    "  XGB_test_score = XGBmodel.score(X_test, y_test)\n",
    "  print('Model Accuracy: {0}'.format(XGB_test_score))\n",
    "\n",
    "  print(\"Confusion Matrix\")\n",
    "  plot_confusion_matrix(y_test, y_pred)\n",
    "  print(\"classification Report\")\n",
    "  print(classification_report(y_test, y_pred))\n",
    "  # Probabilities for each class\n",
    "  XGB_probs = XGBmodel.predict_proba(X_test)[:, 1]\n",
    "\n",
    "  # Calculate roc auc\n",
    "  XGB_roc_value = roc_auc_score(y_test, XGB_probs)\n",
    "\n",
    "  print(\"XGboost roc_value: {0}\" .format(XGB_roc_value))\n",
    "  fpr, tpr, thresholds = metrics.roc_curve(y_test, XGB_probs)\n",
    "  threshold = thresholds[np.argmax(tpr-fpr)]\n",
    "  print(\"XGBoost threshold: {0}\".format(threshold))\n",
    "  roc_auc = metrics.auc(fpr, tpr)\n",
    "  print(\"ROC for the test dataset\",'{:.1%}'.format(roc_auc))\n",
    "  plt.plot(fpr,tpr,label=\"Test, auc=\"+str(roc_auc))\n",
    "  plt.legend(loc=4)\n",
    "  plt.show()\n",
    "  \n",
    "  df_Results = df_Results.append(pd.DataFrame({'Methodology': Methodology,'Model': 'XGBoost','Accuracy': XGB_test_score,'roc_value': XGB_roc_value,'threshold': threshold}, index=[0]),ignore_index= True)\n",
    "\n",
    "  return df_Results\n"
   ]
  },
  {
   "cell_type": "code",
   "execution_count": 166,
   "id": "33497154",
   "metadata": {},
   "outputs": [],
   "source": [
    "# Created a common function to fit and predict on a SVM model\n",
    "def buildAndRunSVMModels(df_Results, Methodology, X_train,y_train, X_test, y_test ):\n",
    "  #Evaluate SVM model with sigmoid kernel  model\n",
    "  from sklearn.svm import SVC\n",
    "  from sklearn.metrics import accuracy_score\n",
    "  from sklearn.metrics import roc_auc_score\n",
    "\n",
    "  clf = SVC(kernel='sigmoid', random_state=42)\n",
    "  clf.fit(X_train,y_train)\n",
    "  y_pred_SVM = clf.predict(X_test)\n",
    "  SVM_Score = accuracy_score(y_test,y_pred_SVM)\n",
    "  print(\"accuracy_score : {0}\".format(SVM_Score))\n",
    "  print(\"Confusion Matrix\")\n",
    "  plot_confusion_matrix(y_test, y_pred_SVM)\n",
    "  print(\"classification Report\")\n",
    "  print(classification_report(y_test, y_pred_SVM))\n",
    "\n",
    "  # Run classifier\n",
    "  classifier = SVC(kernel='sigmoid' , probability=True)\n",
    "  svm_probs = classifier.fit(X_train, y_train).predict_proba(X_test)[:, 1]\n",
    "\n",
    "  # Calculate roc auc\n",
    "  roc_value = roc_auc_score(y_test, svm_probs)\n",
    "  \n",
    "  print(\"SVM roc_value: {0}\" .format(roc_value))\n",
    "  fpr, tpr, thresholds = metrics.roc_curve(y_test, svm_probs)\n",
    "  threshold = thresholds[np.argmax(tpr-fpr)]\n",
    "  print(\"SVM threshold: {0}\".format(threshold))\n",
    "  roc_auc = metrics.auc(fpr, tpr)\n",
    "  print(\"ROC for the test dataset\",'{:.1%}'.format(roc_auc))\n",
    "  plt.plot(fpr,tpr,label=\"Test, auc=\"+str(roc_auc))\n",
    "  plt.legend(loc=4)\n",
    "  plt.show()\n",
    "  \n",
    "  df_Results = df_Results.append(pd.DataFrame({'Methodology': Methodology,'Model': 'SVM','Accuracy': SVM_Score,'roc_value': roc_value,'threshold': threshold}, index=[0]),ignore_index= True)\n",
    "\n",
    "  return df_Results"
   ]
  },
  {
   "cell_type": "code",
   "execution_count": 167,
   "id": "81c9b243",
   "metadata": {},
   "outputs": [
    {
     "name": "stdout",
     "output_type": "stream",
     "text": [
      "Logistic Regression with L1 And L2 Regularisation\n",
      "Max auc_roc for l1: 0.5\n",
      "Max auc_roc for l2: 0.862104063315692\n",
      "parameters for L1 regularistions\n",
      "[[0. 0. 0. 0. 0. 0. 0. 0.]]\n",
      "[0.]\n",
      "<bound method LogisticRegressionCV.score of LogisticRegressionCV(Cs=[1e-10, 1e-09, 1e-08, 1e-07, 1e-06, 1e-05, 0.0001,\n",
      "                         0.001, 0.01, 0.1, 1.0, 10.0, 100.0, 1000.0, 10000.0,\n",
      "                         100000.0, 1000000.0, 10000000.0, 100000000.0,\n",
      "                         1000000000.0],\n",
      "                     cv=KFold(n_splits=10, random_state=42, shuffle=True),\n",
      "                     max_iter=10000, penalty='l1', random_state=42,\n",
      "                     scoring='roc_auc', solver='liblinear', tol=10)>\n",
      "parameters for L2 regularistions\n",
      "[[-0.00899176  0.27063558  0.25147351  0.0629871   1.04796586 -0.14435461\n",
      "  -0.21665764  1.00398084]]\n",
      "[0.06407252]\n",
      "<bound method LogisticRegressionCV.score of LogisticRegressionCV(Cs=[1e-10, 1e-09, 1e-08, 1e-07, 1e-06, 1e-05, 0.0001,\n",
      "                         0.001, 0.01, 0.1, 1.0, 10.0, 100.0, 1000.0, 10000.0,\n",
      "                         100000.0, 1000000.0, 10000000.0, 100000000.0,\n",
      "                         1000000000.0],\n",
      "                     cv=KFold(n_splits=10, random_state=42, shuffle=True),\n",
      "                     max_iter=10000, random_state=42, scoring='roc_auc',\n",
      "                     solver='newton-cg', tol=10)>\n",
      "Accuracy of logistic model with L2 regulrisation: {0} 0.8228346456692913\n",
      "confusion Matrix\n"
     ]
    },
    {
     "data": {
      "image/png": "[encoded data removed]",
      "text/plain": [
       "<Figure size 432x288 with 1 Axes>"
      ]
     },
     "metadata": {
      "needs_background": "light"
     },
     "output_type": "display_data"
    },
    {
     "name": "stdout",
     "output_type": "stream",
     "text": [
      "Classification Report\n",
      "              precision    recall  f1-score   support\n",
      "\n",
      "           0       0.87      0.83      0.85       151\n",
      "           1       0.76      0.82      0.79       103\n",
      "\n",
      "    accuracy                           0.82       254\n",
      "   macro avg       0.82      0.82      0.82       254\n",
      "weighted avg       0.83      0.82      0.82       254\n",
      "\n",
      "Accuracy of logistic model with L1 regulrisation: {0} 0.594488188976378\n",
      "confusion Matrix\n"
     ]
    },
    {
     "data": {
      "image/png": "[encoded data removed]",
      "text/plain": [
       "<Figure size 432x288 with 1 Axes>"
      ]
     },
     "metadata": {
      "needs_background": "light"
     },
     "output_type": "display_data"
    },
    {
     "name": "stdout",
     "output_type": "stream",
     "text": [
      "Classification Report\n",
      "              precision    recall  f1-score   support\n",
      "\n",
      "           0       0.59      1.00      0.75       151\n",
      "           1       0.00      0.00      0.00       103\n",
      "\n",
      "    accuracy                           0.59       254\n",
      "   macro avg       0.30      0.50      0.37       254\n",
      "weighted avg       0.35      0.59      0.44       254\n",
      "\n",
      "L2 ROC VALUE:0.8855526265029254\n",
      "L2 Threshold value:1.9876109642073054\n",
      "ROC of the test dataset 88.6%\n",
      "L1 ROC VALUE:0.5\n",
      "L1 Threshold value:1.5\n",
      "ROC of the test dataset 50.0%\n",
      "Time Taken by Model: --- 2.2832231521606445 seconds ---\n",
      "------------------------------------------------------------\n",
      "KNN Model\n",
      "Model score\n",
      "0.937007874015748\n",
      "Classification report\n",
      "              precision    recall  f1-score   support\n",
      "\n",
      "           0       0.95      0.95      0.95       151\n",
      "           1       0.92      0.92      0.92       103\n",
      "\n",
      "    accuracy                           0.94       254\n",
      "   macro avg       0.93      0.93      0.93       254\n",
      "weighted avg       0.94      0.94      0.94       254\n",
      "\n",
      "KNN ROC_AUC value: 0.9733170449430977\n",
      "knn threshold value: 0.6\n",
      "ROC for the test dataset 97.3%\n"
     ]
    },
    {
     "data": {
      "image/png": "[encoded data removed]",
      "text/plain": [
       "<Figure size 432x288 with 1 Axes>"
      ]
     },
     "metadata": {
      "needs_background": "light"
     },
     "output_type": "display_data"
    },
    {
     "name": "stdout",
     "output_type": "stream",
     "text": [
      "Time Taken by Model: --- 0.7876918315887451 seconds ---\n",
      "------------------------------------------------------------\n",
      "Decision Tree Models with  'gini' & 'entropy' criteria\n",
      "giniModel score: 0.8976377952755905\n",
      "Confusion Matrix\n"
     ]
    },
    {
     "data": {
      "image/png": "[encoded data removed]",
      "text/plain": [
       "<Figure size 432x288 with 1 Axes>"
      ]
     },
     "metadata": {
      "needs_background": "light"
     },
     "output_type": "display_data"
    },
    {
     "name": "stdout",
     "output_type": "stream",
     "text": [
      "Classification report\n",
      "              precision    recall  f1-score   support\n",
      "\n",
      "           0       0.90      0.93      0.92       151\n",
      "           1       0.89      0.85      0.87       103\n",
      "\n",
      "    accuracy                           0.90       254\n",
      "   macro avg       0.90      0.89      0.89       254\n",
      "weighted avg       0.90      0.90      0.90       254\n",
      "\n",
      "Decisiontree ROC_AUC value: 0.8907606249598148\n",
      "Decisiontree threshold value: 1.0\n",
      "ROC for the test dataset 89.1%\n"
     ]
    },
    {
     "data": {
      "image/png": "[encoded data removed]",
      "text/plain": [
       "<Figure size 432x288 with 1 Axes>"
      ]
     },
     "metadata": {
      "needs_background": "light"
     },
     "output_type": "display_data"
    },
    {
     "name": "stdout",
     "output_type": "stream",
     "text": [
      "entropyModel score: 0.8700787401574803\n",
      "Confusion Matrix\n"
     ]
    },
    {
     "data": {
      "image/png": "[encoded data removed]",
      "text/plain": [
       "<Figure size 432x288 with 1 Axes>"
      ]
     },
     "metadata": {
      "needs_background": "light"
     },
     "output_type": "display_data"
    },
    {
     "name": "stdout",
     "output_type": "stream",
     "text": [
      "Classification report\n",
      "              precision    recall  f1-score   support\n",
      "\n",
      "           0       0.89      0.89      0.89       151\n",
      "           1       0.84      0.84      0.84       103\n",
      "\n",
      "    accuracy                           0.87       254\n",
      "   macro avg       0.86      0.87      0.87       254\n",
      "weighted avg       0.87      0.87      0.87       254\n",
      "\n",
      "Decisiontree ROC_AUC value: 0.8660387063589018\n",
      "Decisiontree threshold value: 1.0\n",
      "ROC for the test dataset 86.6%\n"
     ]
    },
    {
     "data": {
      "image/png": "[encoded data removed]",
      "text/plain": [
       "<Figure size 432x288 with 1 Axes>"
      ]
     },
     "metadata": {
      "needs_background": "light"
     },
     "output_type": "display_data"
    },
    {
     "name": "stdout",
     "output_type": "stream",
     "text": [
      "Time Taken by Model: --- 1.650604009628296 seconds ---\n",
      "------------------------------------------------------------\n",
      "Random Forest Model\n",
      "Model score: 0.9094488188976378\n",
      "Confusion Matrix\n"
     ]
    },
    {
     "data": {
      "image/png": "[encoded data removed]",
      "text/plain": [
       "<Figure size 432x288 with 1 Axes>"
      ]
     },
     "metadata": {
      "needs_background": "light"
     },
     "output_type": "display_data"
    },
    {
     "name": "stdout",
     "output_type": "stream",
     "text": [
      "Classification Report\n",
      "              precision    recall  f1-score   support\n",
      "\n",
      "           0       0.93      0.91      0.92       151\n",
      "           1       0.88      0.90      0.89       103\n",
      "\n",
      "    accuracy                           0.91       254\n",
      "   macro avg       0.90      0.91      0.91       254\n",
      "weighted avg       0.91      0.91      0.91       254\n",
      "\n",
      "Random Forest tree ROC_AUC value: 0.9698771941104609\n",
      "Random Forest tree threshold value: 0.55\n",
      "ROC for the test dataset 97.0%\n"
     ]
    },
    {
     "data": {
      "image/png": "[encoded data removed]",
      "text/plain": [
       "<Figure size 432x288 with 1 Axes>"
      ]
     },
     "metadata": {
      "needs_background": "light"
     },
     "output_type": "display_data"
    },
    {
     "name": "stdout",
     "output_type": "stream",
     "text": [
      "Time Taken by Model: --- 0.9085140228271484 seconds ---\n",
      "------------------------------------------------------------\n",
      "XGBoost Model\n",
      "Model Accuracy: 0.9015748031496063\n",
      "Confusion Matrix\n"
     ]
    },
    {
     "data": {
      "image/png": "[encoded data removed]",
      "text/plain": [
       "<Figure size 432x288 with 1 Axes>"
      ]
     },
     "metadata": {
      "needs_background": "light"
     },
     "output_type": "display_data"
    },
    {
     "name": "stdout",
     "output_type": "stream",
     "text": [
      "classification Report\n",
      "              precision    recall  f1-score   support\n",
      "\n",
      "           0       0.91      0.93      0.92       151\n",
      "           1       0.89      0.86      0.88       103\n",
      "\n",
      "    accuracy                           0.90       254\n",
      "   macro avg       0.90      0.90      0.90       254\n",
      "weighted avg       0.90      0.90      0.90       254\n",
      "\n",
      "XGboost roc_value: 0.9629010480293192\n",
      "XGBoost threshold: 0.30017977952957153\n",
      "ROC for the test dataset 96.3%\n"
     ]
    },
    {
     "data": {
      "image/png": "[encoded data removed]",
      "text/plain": [
       "<Figure size 432x288 with 1 Axes>"
      ]
     },
     "metadata": {
      "needs_background": "light"
     },
     "output_type": "display_data"
    },
    {
     "name": "stdout",
     "output_type": "stream",
     "text": [
      "Time Taken by Model: --- 0.6755087375640869 seconds ---\n",
      "------------------------------------------------------------\n",
      "SVM Model with Sigmoid Kernel\n",
      "accuracy_score : 0.6929133858267716\n",
      "Confusion Matrix\n"
     ]
    },
    {
     "data": {
      "image/png": "[encoded data removed]",
      "text/plain": [
       "<Figure size 432x288 with 1 Axes>"
      ]
     },
     "metadata": {
      "needs_background": "light"
     },
     "output_type": "display_data"
    },
    {
     "name": "stdout",
     "output_type": "stream",
     "text": [
      "classification Report\n",
      "              precision    recall  f1-score   support\n",
      "\n",
      "           0       0.78      0.67      0.72       151\n",
      "           1       0.60      0.73      0.66       103\n",
      "\n",
      "    accuracy                           0.69       254\n",
      "   macro avg       0.69      0.70      0.69       254\n",
      "weighted avg       0.71      0.69      0.70       254\n",
      "\n",
      "SVM roc_value: 0.7749630296405838\n",
      "SVM threshold: 0.6210674696595203\n",
      "ROC for the test dataset 77.5%\n"
     ]
    },
    {
     "data": {
      "image/png": "[encoded data removed]",
      "text/plain": [
       "<Figure size 432x288 with 1 Axes>"
      ]
     },
     "metadata": {
      "needs_background": "light"
     },
     "output_type": "display_data"
    },
    {
     "name": "stdout",
     "output_type": "stream",
     "text": [
      "Time Taken by Model: --- 0.6892950534820557 seconds ---\n"
     ]
    }
   ],
   "source": [
    "#Run Logistic Regression with L1 And L2 Regularisation\n",
    "print(\"Logistic Regression with L1 And L2 Regularisation\")\n",
    "start_time = time.time()\n",
    "df_results = build_and_run_logisticmodels(df_results,'Result for Logistic',X_train, X_test,y_train, y_test)\n",
    "print(\"Time Taken by Model: --- %s seconds ---\" % (time.time() - start_time))\n",
    "print('-'*60 )\n",
    "\n",
    "#Run KNN Model\n",
    "print(\"KNN Model\")\n",
    "start_time = time.time()\n",
    "df_results = build_and_run_KNNmodels(df_results,'Result for KNN',X_train,y_train,X_test, y_test)\n",
    "print(\"Time Taken by Model: --- %s seconds ---\" % (time.time() - start_time))\n",
    "print('-'*60 )\n",
    "\n",
    "#Run Decision Tree Models with  'gini' & 'entropy' criteria\n",
    "print(\"Decision Tree Models with  'gini' & 'entropy' criteria\")\n",
    "start_time = time.time()\n",
    "df_results = build_and_run_Treemodels(df_results,'Result for Decision Tree',X_train,y_train,X_test, y_test)\n",
    "print(\"Time Taken by Model: --- %s seconds ---\" % (time.time() - start_time))\n",
    "print('-'*60 )\n",
    "\n",
    "#Run Random Forest Model\n",
    "print(\"Random Forest Model\")\n",
    "start_time = time.time()\n",
    "df_results = build_and_run_RFmodels(df_results,'Result for Random Forest',X_train,y_train,X_test, y_test)\n",
    "print(\"Time Taken by Model: --- %s seconds ---\" % (time.time() - start_time))\n",
    "print('-'*60 )\n",
    "\n",
    "#Run XGBoost Modela\n",
    "print(\"XGBoost Model\")\n",
    "start_time = time.time()\n",
    "df_results = buildAndRunXGBoostModels(df_results,'XGBoost',X_train,y_train,X_test, y_test)\n",
    "print(\"Time Taken by Model: --- %s seconds ---\" % (time.time() - start_time))\n",
    "print('-'*60 )\n",
    "\n",
    "#Run SVM Model with Sigmoid Kernel\n",
    "print(\"SVM Model with Sigmoid Kernel\")\n",
    "start_time = time.time()\n",
    "df_results = buildAndRunSVMModels(df_results,'Result for SVM Model',X_train,y_train,X_test, y_test)\n",
    "print(\"Time Taken by Model: --- %s seconds ---\" % (time.time() - start_time))"
   ]
  },
  {
   "cell_type": "code",
   "execution_count": 168,
   "id": "493c5c1a",
   "metadata": {},
   "outputs": [
    {
     "data": {
      "text/html": [
       "<div>\n",
       "<style scoped>\n",
       "    .dataframe tbody tr th:only-of-type {\n",
       "        vertical-align: middle;\n",
       "    }\n",
       "\n",
       "    .dataframe tbody tr th {\n",
       "        vertical-align: top;\n",
       "    }\n",
       "\n",
       "    .dataframe thead th {\n",
       "        text-align: right;\n",
       "    }\n",
       "</style>\n",
       "<table border=\"1\" class=\"dataframe\">\n",
       "  <thead>\n",
       "    <tr style=\"text-align: right;\">\n",
       "      <th></th>\n",
       "      <th>Methodology</th>\n",
       "      <th>Model</th>\n",
       "      <th>Accuracy</th>\n",
       "      <th>roc_value</th>\n",
       "      <th>threshold</th>\n",
       "    </tr>\n",
       "  </thead>\n",
       "  <tbody>\n",
       "    <tr>\n",
       "      <th>0</th>\n",
       "      <td>Result for Logistic</td>\n",
       "      <td>Logistic Regression with L2 Regularistion</td>\n",
       "      <td>0.822835</td>\n",
       "      <td>0.885553</td>\n",
       "      <td>1.987611</td>\n",
       "    </tr>\n",
       "    <tr>\n",
       "      <th>1</th>\n",
       "      <td>Result for Logistic</td>\n",
       "      <td>Logistic Regression with L1 Regularistion</td>\n",
       "      <td>0.594488</td>\n",
       "      <td>0.500000</td>\n",
       "      <td>1.500000</td>\n",
       "    </tr>\n",
       "    <tr>\n",
       "      <th>2</th>\n",
       "      <td>Result for KNN</td>\n",
       "      <td>KNN</td>\n",
       "      <td>0.937008</td>\n",
       "      <td>0.973317</td>\n",
       "      <td>0.600000</td>\n",
       "    </tr>\n",
       "    <tr>\n",
       "      <th>3</th>\n",
       "      <td>Result for Decision Tree</td>\n",
       "      <td>Tree Model with gini criteria</td>\n",
       "      <td>0.897638</td>\n",
       "      <td>0.890761</td>\n",
       "      <td>1.000000</td>\n",
       "    </tr>\n",
       "    <tr>\n",
       "      <th>4</th>\n",
       "      <td>Result for Decision Tree</td>\n",
       "      <td>Tree Model with entropy criteria</td>\n",
       "      <td>0.870079</td>\n",
       "      <td>0.866039</td>\n",
       "      <td>1.000000</td>\n",
       "    </tr>\n",
       "    <tr>\n",
       "      <th>5</th>\n",
       "      <td>Result for Random Forest</td>\n",
       "      <td>Random Forest</td>\n",
       "      <td>0.909449</td>\n",
       "      <td>0.969877</td>\n",
       "      <td>0.550000</td>\n",
       "    </tr>\n",
       "    <tr>\n",
       "      <th>6</th>\n",
       "      <td>XGBoost</td>\n",
       "      <td>XGBoost</td>\n",
       "      <td>0.901575</td>\n",
       "      <td>0.962901</td>\n",
       "      <td>0.300180</td>\n",
       "    </tr>\n",
       "    <tr>\n",
       "      <th>7</th>\n",
       "      <td>Result for SVM Model</td>\n",
       "      <td>SVM</td>\n",
       "      <td>0.692913</td>\n",
       "      <td>0.774963</td>\n",
       "      <td>0.621067</td>\n",
       "    </tr>\n",
       "  </tbody>\n",
       "</table>\n",
       "</div>"
      ],
      "text/plain": [
       "                Methodology                                      Model  \\\n",
       "0       Result for Logistic  Logistic Regression with L2 Regularistion   \n",
       "1       Result for Logistic  Logistic Regression with L1 Regularistion   \n",
       "2            Result for KNN                                        KNN   \n",
       "3  Result for Decision Tree             Tree Model with gini criteria    \n",
       "4  Result for Decision Tree          Tree Model with entropy criteria    \n",
       "5  Result for Random Forest                              Random Forest   \n",
       "6                   XGBoost                                    XGBoost   \n",
       "7      Result for SVM Model                                        SVM   \n",
       "\n",
       "   Accuracy  roc_value  threshold  \n",
       "0  0.822835   0.885553   1.987611  \n",
       "1  0.594488   0.500000   1.500000  \n",
       "2  0.937008   0.973317   0.600000  \n",
       "3  0.897638   0.890761   1.000000  \n",
       "4  0.870079   0.866039   1.000000  \n",
       "5  0.909449   0.969877   0.550000  \n",
       "6  0.901575   0.962901   0.300180  \n",
       "7  0.692913   0.774963   0.621067  "
      ]
     },
     "execution_count": 168,
     "metadata": {},
     "output_type": "execute_result"
    }
   ],
   "source": [
    "df1 = df_results\n",
    "df1"
   ]
  }
 ],
 "metadata": {
  "kernelspec": {
   "display_name": "Python 3 (ipykernel)",
   "language": "python",
   "name": "python3"
  },
  "language_info": {
   "codemirror_mode": {
    "name": "ipython",
    "version": 3
   },
   "file_extension": ".py",
   "mimetype": "text/x-python",
   "name": "python",
   "nbconvert_exporter": "python",
   "pygments_lexer": "ipython3",
   "version": "3.9.7"
  }
 },
 "nbformat": 4,
 "nbformat_minor": 5
}
