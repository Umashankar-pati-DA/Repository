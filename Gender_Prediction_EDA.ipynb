{
 "cells": [
  {
   "cell_type": "code",
   "execution_count": 1,
   "id": "c92670d4",
   "metadata": {},
   "outputs": [],
   "source": [
    "import pandas as pd\n",
    "import numpy as np\n",
    "import matplotlib.pyplot as plt\n",
    "import seaborn as sns\n",
    "from sklearn.preprocessing import LabelEncoder\n",
    "from sklearn.preprocessing import StandardScaler\n",
    "from scipy import stats\n",
    "import math as mt\n",
    "from math import sqrt\n",
    "from sklearn.model_selection import train_test_split"
   ]
  },
  {
   "cell_type": "code",
   "execution_count": 2,
   "id": "33d9e7b6",
   "metadata": {},
   "outputs": [],
   "source": [
    "df = pd.read_csv('C:/Users/Admin/Desktop/Proj1.csv')"
   ]
  },
  {
   "cell_type": "code",
   "execution_count": 3,
   "id": "05d2f629",
   "metadata": {},
   "outputs": [],
   "source": [
    "Dataset = df.copy()"
   ]
  },
  {
   "cell_type": "code",
   "execution_count": 4,
   "id": "c514bb19",
   "metadata": {},
   "outputs": [
    {
     "data": {
      "text/html": [
       "<div>\n",
       "<style scoped>\n",
       "    .dataframe tbody tr th:only-of-type {\n",
       "        vertical-align: middle;\n",
       "    }\n",
       "\n",
       "    .dataframe tbody tr th {\n",
       "        vertical-align: top;\n",
       "    }\n",
       "\n",
       "    .dataframe thead th {\n",
       "        text-align: right;\n",
       "    }\n",
       "</style>\n",
       "<table border=\"1\" class=\"dataframe\">\n",
       "  <thead>\n",
       "    <tr style=\"text-align: right;\">\n",
       "      <th></th>\n",
       "      <th>Sl No</th>\n",
       "      <th>Sample ID</th>\n",
       "      <th>Age</th>\n",
       "      <th>Gender</th>\n",
       "      <th>inter canine distance intraoral</th>\n",
       "      <th>intercanine distance casts</th>\n",
       "      <th>right canine width intraoral</th>\n",
       "      <th>right canine width casts</th>\n",
       "      <th>left canine width intraoral</th>\n",
       "      <th>left canine width casts</th>\n",
       "      <th>right canine index intra oral</th>\n",
       "      <th>right canine index casts</th>\n",
       "      <th>left canine index intraoral</th>\n",
       "      <th>left canine index casts</th>\n",
       "    </tr>\n",
       "  </thead>\n",
       "  <tbody>\n",
       "    <tr>\n",
       "      <th>0</th>\n",
       "      <td>1</td>\n",
       "      <td>NaN</td>\n",
       "      <td>24</td>\n",
       "      <td>Female</td>\n",
       "      <td>25.06</td>\n",
       "      <td>25.05</td>\n",
       "      <td>6.08</td>\n",
       "      <td>6.08</td>\n",
       "      <td>6.09</td>\n",
       "      <td>6.10</td>\n",
       "      <td>0.242</td>\n",
       "      <td>0.242</td>\n",
       "      <td>0.242</td>\n",
       "      <td>0.241</td>\n",
       "    </tr>\n",
       "    <tr>\n",
       "      <th>1</th>\n",
       "      <td>2</td>\n",
       "      <td>NaN</td>\n",
       "      <td>22</td>\n",
       "      <td>Female</td>\n",
       "      <td>25.78</td>\n",
       "      <td>25.79</td>\n",
       "      <td>6.13</td>\n",
       "      <td>6.13</td>\n",
       "      <td>6.33</td>\n",
       "      <td>6.33</td>\n",
       "      <td>0.237</td>\n",
       "      <td>0.237</td>\n",
       "      <td>0.247</td>\n",
       "      <td>0.247</td>\n",
       "    </tr>\n",
       "    <tr>\n",
       "      <th>2</th>\n",
       "      <td>3</td>\n",
       "      <td>NaN</td>\n",
       "      <td>23</td>\n",
       "      <td>Female</td>\n",
       "      <td>23.83</td>\n",
       "      <td>23.83</td>\n",
       "      <td>5.91</td>\n",
       "      <td>5.96</td>\n",
       "      <td>6.28</td>\n",
       "      <td>6.28</td>\n",
       "      <td>0.248</td>\n",
       "      <td>0.248</td>\n",
       "      <td>0.264</td>\n",
       "      <td>0.264</td>\n",
       "    </tr>\n",
       "    <tr>\n",
       "      <th>3</th>\n",
       "      <td>4</td>\n",
       "      <td>NaN</td>\n",
       "      <td>20</td>\n",
       "      <td>Female</td>\n",
       "      <td>26.12</td>\n",
       "      <td>26.12</td>\n",
       "      <td>6.08</td>\n",
       "      <td>6.08</td>\n",
       "      <td>6.56</td>\n",
       "      <td>6.56</td>\n",
       "      <td>0.232</td>\n",
       "      <td>0.232</td>\n",
       "      <td>0.250</td>\n",
       "      <td>0.250</td>\n",
       "    </tr>\n",
       "    <tr>\n",
       "      <th>4</th>\n",
       "      <td>5</td>\n",
       "      <td>NaN</td>\n",
       "      <td>20</td>\n",
       "      <td>Female</td>\n",
       "      <td>26.36</td>\n",
       "      <td>26.41</td>\n",
       "      <td>6.09</td>\n",
       "      <td>6.09</td>\n",
       "      <td>6.50</td>\n",
       "      <td>6.50</td>\n",
       "      <td>0.231</td>\n",
       "      <td>0.231</td>\n",
       "      <td>0.246</td>\n",
       "      <td>0.246</td>\n",
       "    </tr>\n",
       "  </tbody>\n",
       "</table>\n",
       "</div>"
      ],
      "text/plain": [
       "   Sl No  Sample ID  Age  Gender  inter canine distance intraoral  \\\n",
       "0      1        NaN   24  Female                            25.06   \n",
       "1      2        NaN   22  Female                            25.78   \n",
       "2      3        NaN   23  Female                            23.83   \n",
       "3      4        NaN   20  Female                            26.12   \n",
       "4      5        NaN   20  Female                            26.36   \n",
       "\n",
       "   intercanine distance casts  right canine width intraoral  \\\n",
       "0                       25.05                          6.08   \n",
       "1                       25.79                          6.13   \n",
       "2                       23.83                          5.91   \n",
       "3                       26.12                          6.08   \n",
       "4                       26.41                          6.09   \n",
       "\n",
       "   right canine width casts  left canine width intraoral  \\\n",
       "0                      6.08                         6.09   \n",
       "1                      6.13                         6.33   \n",
       "2                      5.96                         6.28   \n",
       "3                      6.08                         6.56   \n",
       "4                      6.09                         6.50   \n",
       "\n",
       "   left canine width casts  right canine index intra oral  \\\n",
       "0                     6.10                          0.242   \n",
       "1                     6.33                          0.237   \n",
       "2                     6.28                          0.248   \n",
       "3                     6.56                          0.232   \n",
       "4                     6.50                          0.231   \n",
       "\n",
       "   right canine index casts  left canine index intraoral  \\\n",
       "0                     0.242                        0.242   \n",
       "1                     0.237                        0.247   \n",
       "2                     0.248                        0.264   \n",
       "3                     0.232                        0.250   \n",
       "4                     0.231                        0.246   \n",
       "\n",
       "   left canine index casts  \n",
       "0                    0.241  \n",
       "1                    0.247  \n",
       "2                    0.264  \n",
       "3                    0.250  \n",
       "4                    0.246  "
      ]
     },
     "execution_count": 4,
     "metadata": {},
     "output_type": "execute_result"
    }
   ],
   "source": [
    "Dataset.head()  #to get an idea on the features of the dataset"
   ]
  },
  {
   "cell_type": "code",
   "execution_count": 5,
   "id": "b91d8108",
   "metadata": {
    "scrolled": true
   },
   "outputs": [
    {
     "name": "stdout",
     "output_type": "stream",
     "text": [
      "Shape of the Dataset before dropping duplicates: (1100, 14)\n"
     ]
    }
   ],
   "source": [
    "print('Shape of the Dataset before dropping duplicates:',Dataset.shape)"
   ]
  },
  {
   "cell_type": "code",
   "execution_count": 6,
   "id": "c5cd095f",
   "metadata": {},
   "outputs": [],
   "source": [
    "#As we could see there are 1100 rows and 14 columns(features) before dropping duplicate"
   ]
  },
  {
   "cell_type": "code",
   "execution_count": 7,
   "id": "cfb13c5a",
   "metadata": {},
   "outputs": [
    {
     "name": "stdout",
     "output_type": "stream",
     "text": [
      "<class 'pandas.core.frame.DataFrame'>\n",
      "RangeIndex: 1100 entries, 0 to 1099\n",
      "Data columns (total 14 columns):\n",
      " #   Column                           Non-Null Count  Dtype  \n",
      "---  ------                           --------------  -----  \n",
      " 0   Sl No                            1100 non-null   int64  \n",
      " 1   Sample ID                        0 non-null      float64\n",
      " 2   Age                              1100 non-null   int64  \n",
      " 3   Gender                           1100 non-null   object \n",
      " 4   inter canine distance intraoral  1100 non-null   float64\n",
      " 5   intercanine distance casts       1100 non-null   float64\n",
      " 6   right canine width intraoral     1100 non-null   float64\n",
      " 7   right canine width casts         1100 non-null   float64\n",
      " 8   left canine width intraoral      1100 non-null   float64\n",
      " 9   left canine width casts          1100 non-null   float64\n",
      " 10  right canine index intra oral    1100 non-null   float64\n",
      " 11  right canine index casts         1100 non-null   float64\n",
      " 12  left canine index intraoral      1100 non-null   float64\n",
      " 13  left canine index casts          1100 non-null   float64\n",
      "dtypes: float64(11), int64(2), object(1)\n",
      "memory usage: 120.4+ KB\n"
     ]
    }
   ],
   "source": [
    "Dataset.info()  #To get an idea of the features which might have null values"
   ]
  },
  {
   "cell_type": "code",
   "execution_count": 8,
   "id": "92969bda",
   "metadata": {},
   "outputs": [],
   "source": [
    "#We can see from above execution that Sample ID can be dropped as it has only Null values and also SI No.\n",
    "#as SI No. wont be useful for Model prediction"
   ]
  },
  {
   "cell_type": "code",
   "execution_count": 9,
   "id": "cd07b3da",
   "metadata": {},
   "outputs": [],
   "source": [
    "Dataset = Dataset.drop(['Sample ID','Sl No'],axis =1)"
   ]
  },
  {
   "cell_type": "code",
   "execution_count": 10,
   "id": "368f5800",
   "metadata": {},
   "outputs": [
    {
     "name": "stdout",
     "output_type": "stream",
     "text": [
      "<class 'pandas.core.frame.DataFrame'>\n",
      "RangeIndex: 1100 entries, 0 to 1099\n",
      "Data columns (total 12 columns):\n",
      " #   Column                           Non-Null Count  Dtype  \n",
      "---  ------                           --------------  -----  \n",
      " 0   Age                              1100 non-null   int64  \n",
      " 1   Gender                           1100 non-null   object \n",
      " 2   inter canine distance intraoral  1100 non-null   float64\n",
      " 3   intercanine distance casts       1100 non-null   float64\n",
      " 4   right canine width intraoral     1100 non-null   float64\n",
      " 5   right canine width casts         1100 non-null   float64\n",
      " 6   left canine width intraoral      1100 non-null   float64\n",
      " 7   left canine width casts          1100 non-null   float64\n",
      " 8   right canine index intra oral    1100 non-null   float64\n",
      " 9   right canine index casts         1100 non-null   float64\n",
      " 10  left canine index intraoral      1100 non-null   float64\n",
      " 11  left canine index casts          1100 non-null   float64\n",
      "dtypes: float64(10), int64(1), object(1)\n",
      "memory usage: 103.2+ KB\n"
     ]
    }
   ],
   "source": [
    "Dataset.info()  #We can see that there is no null value for any of the feature"
   ]
  },
  {
   "cell_type": "code",
   "execution_count": 11,
   "id": "0ad57424",
   "metadata": {},
   "outputs": [
    {
     "name": "stdout",
     "output_type": "stream",
     "text": [
      "Shape of the Dataset after dropping duplicates: (1077, 12)\n"
     ]
    }
   ],
   "source": [
    "Dataset= Dataset.drop_duplicates()\n",
    "print('Shape of the Dataset after dropping duplicates:',Dataset.shape)"
   ]
  },
  {
   "cell_type": "code",
   "execution_count": 12,
   "id": "44c48d49",
   "metadata": {},
   "outputs": [],
   "source": [
    "#Applyinng Categorical encoding for variables\n",
    "LE = LabelEncoder()"
   ]
  },
  {
   "cell_type": "code",
   "execution_count": 13,
   "id": "49de78ff",
   "metadata": {},
   "outputs": [],
   "source": [
    "Dataset['Gender']= LE.fit_transform(Dataset['Gender'])#Applying Categorical encoder coding on Categorical variable GENDER"
   ]
  },
  {
   "cell_type": "code",
   "execution_count": 14,
   "id": "7a66ea20",
   "metadata": {},
   "outputs": [
    {
     "data": {
      "text/html": [
       "<div>\n",
       "<style scoped>\n",
       "    .dataframe tbody tr th:only-of-type {\n",
       "        vertical-align: middle;\n",
       "    }\n",
       "\n",
       "    .dataframe tbody tr th {\n",
       "        vertical-align: top;\n",
       "    }\n",
       "\n",
       "    .dataframe thead th {\n",
       "        text-align: right;\n",
       "    }\n",
       "</style>\n",
       "<table border=\"1\" class=\"dataframe\">\n",
       "  <thead>\n",
       "    <tr style=\"text-align: right;\">\n",
       "      <th></th>\n",
       "      <th>Age</th>\n",
       "      <th>Gender</th>\n",
       "      <th>inter canine distance intraoral</th>\n",
       "      <th>intercanine distance casts</th>\n",
       "      <th>right canine width intraoral</th>\n",
       "      <th>right canine width casts</th>\n",
       "      <th>left canine width intraoral</th>\n",
       "      <th>left canine width casts</th>\n",
       "      <th>right canine index intra oral</th>\n",
       "      <th>right canine index casts</th>\n",
       "      <th>left canine index intraoral</th>\n",
       "      <th>left canine index casts</th>\n",
       "    </tr>\n",
       "  </thead>\n",
       "  <tbody>\n",
       "    <tr>\n",
       "      <th>0</th>\n",
       "      <td>24</td>\n",
       "      <td>0</td>\n",
       "      <td>25.06</td>\n",
       "      <td>25.05</td>\n",
       "      <td>6.08</td>\n",
       "      <td>6.08</td>\n",
       "      <td>6.09</td>\n",
       "      <td>6.10</td>\n",
       "      <td>0.242</td>\n",
       "      <td>0.242</td>\n",
       "      <td>0.242</td>\n",
       "      <td>0.241</td>\n",
       "    </tr>\n",
       "    <tr>\n",
       "      <th>1</th>\n",
       "      <td>22</td>\n",
       "      <td>0</td>\n",
       "      <td>25.78</td>\n",
       "      <td>25.79</td>\n",
       "      <td>6.13</td>\n",
       "      <td>6.13</td>\n",
       "      <td>6.33</td>\n",
       "      <td>6.33</td>\n",
       "      <td>0.237</td>\n",
       "      <td>0.237</td>\n",
       "      <td>0.247</td>\n",
       "      <td>0.247</td>\n",
       "    </tr>\n",
       "    <tr>\n",
       "      <th>2</th>\n",
       "      <td>23</td>\n",
       "      <td>0</td>\n",
       "      <td>23.83</td>\n",
       "      <td>23.83</td>\n",
       "      <td>5.91</td>\n",
       "      <td>5.96</td>\n",
       "      <td>6.28</td>\n",
       "      <td>6.28</td>\n",
       "      <td>0.248</td>\n",
       "      <td>0.248</td>\n",
       "      <td>0.264</td>\n",
       "      <td>0.264</td>\n",
       "    </tr>\n",
       "    <tr>\n",
       "      <th>3</th>\n",
       "      <td>20</td>\n",
       "      <td>0</td>\n",
       "      <td>26.12</td>\n",
       "      <td>26.12</td>\n",
       "      <td>6.08</td>\n",
       "      <td>6.08</td>\n",
       "      <td>6.56</td>\n",
       "      <td>6.56</td>\n",
       "      <td>0.232</td>\n",
       "      <td>0.232</td>\n",
       "      <td>0.250</td>\n",
       "      <td>0.250</td>\n",
       "    </tr>\n",
       "    <tr>\n",
       "      <th>4</th>\n",
       "      <td>20</td>\n",
       "      <td>0</td>\n",
       "      <td>26.36</td>\n",
       "      <td>26.41</td>\n",
       "      <td>6.09</td>\n",
       "      <td>6.09</td>\n",
       "      <td>6.50</td>\n",
       "      <td>6.50</td>\n",
       "      <td>0.231</td>\n",
       "      <td>0.231</td>\n",
       "      <td>0.246</td>\n",
       "      <td>0.246</td>\n",
       "    </tr>\n",
       "  </tbody>\n",
       "</table>\n",
       "</div>"
      ],
      "text/plain": [
       "   Age  Gender  inter canine distance intraoral  intercanine distance casts  \\\n",
       "0   24       0                            25.06                       25.05   \n",
       "1   22       0                            25.78                       25.79   \n",
       "2   23       0                            23.83                       23.83   \n",
       "3   20       0                            26.12                       26.12   \n",
       "4   20       0                            26.36                       26.41   \n",
       "\n",
       "   right canine width intraoral  right canine width casts  \\\n",
       "0                          6.08                      6.08   \n",
       "1                          6.13                      6.13   \n",
       "2                          5.91                      5.96   \n",
       "3                          6.08                      6.08   \n",
       "4                          6.09                      6.09   \n",
       "\n",
       "   left canine width intraoral  left canine width casts  \\\n",
       "0                         6.09                     6.10   \n",
       "1                         6.33                     6.33   \n",
       "2                         6.28                     6.28   \n",
       "3                         6.56                     6.56   \n",
       "4                         6.50                     6.50   \n",
       "\n",
       "   right canine index intra oral  right canine index casts  \\\n",
       "0                          0.242                     0.242   \n",
       "1                          0.237                     0.237   \n",
       "2                          0.248                     0.248   \n",
       "3                          0.232                     0.232   \n",
       "4                          0.231                     0.231   \n",
       "\n",
       "   left canine index intraoral  left canine index casts  \n",
       "0                        0.242                    0.241  \n",
       "1                        0.247                    0.247  \n",
       "2                        0.264                    0.264  \n",
       "3                        0.250                    0.250  \n",
       "4                        0.246                    0.246  "
      ]
     },
     "execution_count": 14,
     "metadata": {},
     "output_type": "execute_result"
    }
   ],
   "source": [
    "Dataset.head()"
   ]
  },
  {
   "cell_type": "code",
   "execution_count": 15,
   "id": "371dcc7c",
   "metadata": {},
   "outputs": [
    {
     "data": {
      "text/plain": [
       "array([0, 1])"
      ]
     },
     "execution_count": 15,
     "metadata": {},
     "output_type": "execute_result"
    }
   ],
   "source": [
    "Dataset['Gender'].unique()"
   ]
  },
  {
   "cell_type": "code",
   "execution_count": 16,
   "id": "4cdbb024",
   "metadata": {},
   "outputs": [
    {
     "data": {
      "text/html": [
       "<div>\n",
       "<style scoped>\n",
       "    .dataframe tbody tr th:only-of-type {\n",
       "        vertical-align: middle;\n",
       "    }\n",
       "\n",
       "    .dataframe tbody tr th {\n",
       "        vertical-align: top;\n",
       "    }\n",
       "\n",
       "    .dataframe thead th {\n",
       "        text-align: right;\n",
       "    }\n",
       "</style>\n",
       "<table border=\"1\" class=\"dataframe\">\n",
       "  <thead>\n",
       "    <tr style=\"text-align: right;\">\n",
       "      <th></th>\n",
       "      <th>Age</th>\n",
       "      <th>Gender</th>\n",
       "      <th>inter canine distance intraoral</th>\n",
       "      <th>intercanine distance casts</th>\n",
       "      <th>right canine width intraoral</th>\n",
       "      <th>right canine width casts</th>\n",
       "      <th>left canine width intraoral</th>\n",
       "      <th>left canine width casts</th>\n",
       "      <th>right canine index intra oral</th>\n",
       "      <th>right canine index casts</th>\n",
       "      <th>left canine index intraoral</th>\n",
       "      <th>left canine index casts</th>\n",
       "    </tr>\n",
       "  </thead>\n",
       "  <tbody>\n",
       "  </tbody>\n",
       "</table>\n",
       "</div>"
      ],
      "text/plain": [
       "Empty DataFrame\n",
       "Columns: [Age, Gender, inter canine distance intraoral, intercanine distance casts, right canine width intraoral, right canine width casts, left canine width intraoral, left canine width casts, right canine index intra oral, right canine index casts, left canine index intraoral, left canine index casts]\n",
       "Index: []"
      ]
     },
     "execution_count": 16,
     "metadata": {},
     "output_type": "execute_result"
    }
   ],
   "source": [
    "Dataset.loc[Dataset['Gender'] == 'Male']"
   ]
  },
  {
   "cell_type": "code",
   "execution_count": 17,
   "id": "195aa698",
   "metadata": {},
   "outputs": [
    {
     "name": "stdout",
     "output_type": "stream",
     "text": [
      "<class 'pandas.core.frame.DataFrame'>\n",
      "Int64Index: 1077 entries, 0 to 1099\n",
      "Data columns (total 12 columns):\n",
      " #   Column                           Non-Null Count  Dtype  \n",
      "---  ------                           --------------  -----  \n",
      " 0   Age                              1077 non-null   int64  \n",
      " 1   Gender                           1077 non-null   int32  \n",
      " 2   inter canine distance intraoral  1077 non-null   float64\n",
      " 3   intercanine distance casts       1077 non-null   float64\n",
      " 4   right canine width intraoral     1077 non-null   float64\n",
      " 5   right canine width casts         1077 non-null   float64\n",
      " 6   left canine width intraoral      1077 non-null   float64\n",
      " 7   left canine width casts          1077 non-null   float64\n",
      " 8   right canine index intra oral    1077 non-null   float64\n",
      " 9   right canine index casts         1077 non-null   float64\n",
      " 10  left canine index intraoral      1077 non-null   float64\n",
      " 11  left canine index casts          1077 non-null   float64\n",
      "dtypes: float64(10), int32(1), int64(1)\n",
      "memory usage: 105.2 KB\n"
     ]
    }
   ],
   "source": [
    "Dataset.info()"
   ]
  },
  {
   "cell_type": "code",
   "execution_count": 18,
   "id": "b434b258",
   "metadata": {},
   "outputs": [
    {
     "data": {
      "text/plain": [
       "(1077, 12)"
      ]
     },
     "execution_count": 18,
     "metadata": {},
     "output_type": "execute_result"
    }
   ],
   "source": [
    "Dataset.shape"
   ]
  },
  {
   "cell_type": "code",
   "execution_count": 19,
   "id": "f4316990",
   "metadata": {},
   "outputs": [
    {
     "data": {
      "text/html": [
       "<div>\n",
       "<style scoped>\n",
       "    .dataframe tbody tr th:only-of-type {\n",
       "        vertical-align: middle;\n",
       "    }\n",
       "\n",
       "    .dataframe tbody tr th {\n",
       "        vertical-align: top;\n",
       "    }\n",
       "\n",
       "    .dataframe thead th {\n",
       "        text-align: right;\n",
       "    }\n",
       "</style>\n",
       "<table border=\"1\" class=\"dataframe\">\n",
       "  <thead>\n",
       "    <tr style=\"text-align: right;\">\n",
       "      <th></th>\n",
       "      <th>Age</th>\n",
       "      <th>Gender</th>\n",
       "      <th>inter canine distance intraoral</th>\n",
       "      <th>intercanine distance casts</th>\n",
       "      <th>right canine width intraoral</th>\n",
       "      <th>right canine width casts</th>\n",
       "      <th>left canine width intraoral</th>\n",
       "      <th>left canine width casts</th>\n",
       "      <th>right canine index intra oral</th>\n",
       "      <th>right canine index casts</th>\n",
       "      <th>left canine index intraoral</th>\n",
       "      <th>left canine index casts</th>\n",
       "    </tr>\n",
       "  </thead>\n",
       "  <tbody>\n",
       "    <tr>\n",
       "      <th>count</th>\n",
       "      <td>1077.00000</td>\n",
       "      <td>1077.000000</td>\n",
       "      <td>1077.000000</td>\n",
       "      <td>1077.000000</td>\n",
       "      <td>1077.000000</td>\n",
       "      <td>1077.000000</td>\n",
       "      <td>1077.000000</td>\n",
       "      <td>1077.000000</td>\n",
       "      <td>1077.000000</td>\n",
       "      <td>1077.000000</td>\n",
       "      <td>1077.000000</td>\n",
       "      <td>1077.000000</td>\n",
       "    </tr>\n",
       "    <tr>\n",
       "      <th>mean</th>\n",
       "      <td>21.62117</td>\n",
       "      <td>0.501393</td>\n",
       "      <td>25.981188</td>\n",
       "      <td>25.869842</td>\n",
       "      <td>6.560149</td>\n",
       "      <td>6.561671</td>\n",
       "      <td>6.667604</td>\n",
       "      <td>6.673120</td>\n",
       "      <td>0.253104</td>\n",
       "      <td>0.252319</td>\n",
       "      <td>0.256456</td>\n",
       "      <td>0.256362</td>\n",
       "    </tr>\n",
       "    <tr>\n",
       "      <th>std</th>\n",
       "      <td>2.07289</td>\n",
       "      <td>0.500230</td>\n",
       "      <td>1.309747</td>\n",
       "      <td>1.867892</td>\n",
       "      <td>0.378103</td>\n",
       "      <td>0.376608</td>\n",
       "      <td>0.375512</td>\n",
       "      <td>0.376803</td>\n",
       "      <td>0.015395</td>\n",
       "      <td>0.012894</td>\n",
       "      <td>0.012358</td>\n",
       "      <td>0.012374</td>\n",
       "    </tr>\n",
       "    <tr>\n",
       "      <th>min</th>\n",
       "      <td>18.00000</td>\n",
       "      <td>0.000000</td>\n",
       "      <td>23.120000</td>\n",
       "      <td>6.540000</td>\n",
       "      <td>5.460000</td>\n",
       "      <td>5.460000</td>\n",
       "      <td>5.460000</td>\n",
       "      <td>5.460000</td>\n",
       "      <td>0.223000</td>\n",
       "      <td>0.223000</td>\n",
       "      <td>0.223000</td>\n",
       "      <td>0.223000</td>\n",
       "    </tr>\n",
       "    <tr>\n",
       "      <th>25%</th>\n",
       "      <td>20.00000</td>\n",
       "      <td>0.000000</td>\n",
       "      <td>24.990000</td>\n",
       "      <td>24.970000</td>\n",
       "      <td>6.290000</td>\n",
       "      <td>6.300000</td>\n",
       "      <td>6.400000</td>\n",
       "      <td>6.400000</td>\n",
       "      <td>0.242000</td>\n",
       "      <td>0.242000</td>\n",
       "      <td>0.247000</td>\n",
       "      <td>0.247000</td>\n",
       "    </tr>\n",
       "    <tr>\n",
       "      <th>50%</th>\n",
       "      <td>22.00000</td>\n",
       "      <td>1.000000</td>\n",
       "      <td>25.890000</td>\n",
       "      <td>25.890000</td>\n",
       "      <td>6.520000</td>\n",
       "      <td>6.520000</td>\n",
       "      <td>6.660000</td>\n",
       "      <td>6.670000</td>\n",
       "      <td>0.253000</td>\n",
       "      <td>0.253000</td>\n",
       "      <td>0.255000</td>\n",
       "      <td>0.255000</td>\n",
       "    </tr>\n",
       "    <tr>\n",
       "      <th>75%</th>\n",
       "      <td>23.00000</td>\n",
       "      <td>1.000000</td>\n",
       "      <td>26.980000</td>\n",
       "      <td>26.980000</td>\n",
       "      <td>6.800000</td>\n",
       "      <td>6.800000</td>\n",
       "      <td>6.900000</td>\n",
       "      <td>6.920000</td>\n",
       "      <td>0.262000</td>\n",
       "      <td>0.261000</td>\n",
       "      <td>0.264000</td>\n",
       "      <td>0.264000</td>\n",
       "    </tr>\n",
       "    <tr>\n",
       "      <th>max</th>\n",
       "      <td>25.00000</td>\n",
       "      <td>1.000000</td>\n",
       "      <td>30.310000</td>\n",
       "      <td>30.310000</td>\n",
       "      <td>7.610000</td>\n",
       "      <td>7.600000</td>\n",
       "      <td>7.810000</td>\n",
       "      <td>7.810000</td>\n",
       "      <td>0.363000</td>\n",
       "      <td>0.302000</td>\n",
       "      <td>0.305000</td>\n",
       "      <td>0.304000</td>\n",
       "    </tr>\n",
       "  </tbody>\n",
       "</table>\n",
       "</div>"
      ],
      "text/plain": [
       "              Age       Gender  inter canine distance intraoral  \\\n",
       "count  1077.00000  1077.000000                      1077.000000   \n",
       "mean     21.62117     0.501393                        25.981188   \n",
       "std       2.07289     0.500230                         1.309747   \n",
       "min      18.00000     0.000000                        23.120000   \n",
       "25%      20.00000     0.000000                        24.990000   \n",
       "50%      22.00000     1.000000                        25.890000   \n",
       "75%      23.00000     1.000000                        26.980000   \n",
       "max      25.00000     1.000000                        30.310000   \n",
       "\n",
       "       intercanine distance casts  right canine width intraoral  \\\n",
       "count                 1077.000000                   1077.000000   \n",
       "mean                    25.869842                      6.560149   \n",
       "std                      1.867892                      0.378103   \n",
       "min                      6.540000                      5.460000   \n",
       "25%                     24.970000                      6.290000   \n",
       "50%                     25.890000                      6.520000   \n",
       "75%                     26.980000                      6.800000   \n",
       "max                     30.310000                      7.610000   \n",
       "\n",
       "       right canine width casts  left canine width intraoral  \\\n",
       "count               1077.000000                  1077.000000   \n",
       "mean                   6.561671                     6.667604   \n",
       "std                    0.376608                     0.375512   \n",
       "min                    5.460000                     5.460000   \n",
       "25%                    6.300000                     6.400000   \n",
       "50%                    6.520000                     6.660000   \n",
       "75%                    6.800000                     6.900000   \n",
       "max                    7.600000                     7.810000   \n",
       "\n",
       "       left canine width casts  right canine index intra oral  \\\n",
       "count              1077.000000                    1077.000000   \n",
       "mean                  6.673120                       0.253104   \n",
       "std                   0.376803                       0.015395   \n",
       "min                   5.460000                       0.223000   \n",
       "25%                   6.400000                       0.242000   \n",
       "50%                   6.670000                       0.253000   \n",
       "75%                   6.920000                       0.262000   \n",
       "max                   7.810000                       0.363000   \n",
       "\n",
       "       right canine index casts  left canine index intraoral  \\\n",
       "count               1077.000000                  1077.000000   \n",
       "mean                   0.252319                     0.256456   \n",
       "std                    0.012894                     0.012358   \n",
       "min                    0.223000                     0.223000   \n",
       "25%                    0.242000                     0.247000   \n",
       "50%                    0.253000                     0.255000   \n",
       "75%                    0.261000                     0.264000   \n",
       "max                    0.302000                     0.305000   \n",
       "\n",
       "       left canine index casts  \n",
       "count              1077.000000  \n",
       "mean                  0.256362  \n",
       "std                   0.012374  \n",
       "min                   0.223000  \n",
       "25%                   0.247000  \n",
       "50%                   0.255000  \n",
       "75%                   0.264000  \n",
       "max                   0.304000  "
      ]
     },
     "execution_count": 19,
     "metadata": {},
     "output_type": "execute_result"
    }
   ],
   "source": [
    "Dataset.describe()"
   ]
  },
  {
   "cell_type": "code",
   "execution_count": 20,
   "id": "66d4e065",
   "metadata": {},
   "outputs": [
    {
     "name": "stdout",
     "output_type": "stream",
     "text": [
      "Total Male: 540\n",
      "Total Female: 537\n"
     ]
    },
    {
     "data": {
      "text/plain": [
       "<AxesSubplot:ylabel=' '>"
      ]
     },
     "execution_count": 20,
     "metadata": {},
     "output_type": "execute_result"
    },
    {
     "data": {
      "image/png": "[encoded data removed]",
      "text/plain": [
       "<Figure size 432x288 with 1 Axes>"
      ]
     },
     "metadata": {},
     "output_type": "display_data"
    }
   ],
   "source": [
    "# check for relative proportion \n",
    "print(\"Total Male: \" + str(len(Dataset[Dataset['Gender'] == 1])))\n",
    "print(\"Total Female: \" + str(len(Dataset[Dataset['Gender'] == 0])))\n",
    "\n",
    "\n",
    "# To see how small are the number of Fraud transactions\n",
    "data_pi = Dataset.copy()\n",
    "data_pi[\" \"] = np.where(data_pi['Gender'] == 1 ,  \"Male\", \"Female\")\n",
    "\n",
    "# plot a pie chart\n",
    "%matplotlib inline\n",
    "data_pi[\" \"].value_counts().plot(kind=\"pie\")"
   ]
  },
  {
   "cell_type": "code",
   "execution_count": 21,
   "id": "71956564",
   "metadata": {},
   "outputs": [],
   "source": [
    "#our data is close to evenly distribution"
   ]
  },
  {
   "cell_type": "code",
   "execution_count": 22,
   "id": "832b9992",
   "metadata": {},
   "outputs": [],
   "source": [
    "DF = Dataset.copy()\n",
    "New_DF = Dataset.copy()"
   ]
  },
  {
   "cell_type": "code",
   "execution_count": 23,
   "id": "7050c304",
   "metadata": {},
   "outputs": [],
   "source": [
    "#Applying Chi-square\n",
    "from sklearn.feature_selection import SelectKBest\n",
    "from sklearn.feature_selection import chi2"
   ]
  },
  {
   "cell_type": "code",
   "execution_count": 24,
   "id": "67098bd1",
   "metadata": {},
   "outputs": [],
   "source": [
    "x = New_DF.drop(\"Gender\",axis = 1)\n",
    "y= New_DF[\"Gender\"]\n",
    "bestfeatures = SelectKBest(score_func = chi2,k=7)\n",
    "fit =bestfeatures.fit(x,y)"
   ]
  },
  {
   "cell_type": "code",
   "execution_count": 25,
   "id": "508c1de8",
   "metadata": {},
   "outputs": [
    {
     "data": {
      "text/html": [
       "<div>\n",
       "<style scoped>\n",
       "    .dataframe tbody tr th:only-of-type {\n",
       "        vertical-align: middle;\n",
       "    }\n",
       "\n",
       "    .dataframe tbody tr th {\n",
       "        vertical-align: top;\n",
       "    }\n",
       "\n",
       "    .dataframe thead th {\n",
       "        text-align: right;\n",
       "    }\n",
       "</style>\n",
       "<table border=\"1\" class=\"dataframe\">\n",
       "  <thead>\n",
       "    <tr style=\"text-align: right;\">\n",
       "      <th></th>\n",
       "      <th>fetaures</th>\n",
       "      <th>scores</th>\n",
       "    </tr>\n",
       "  </thead>\n",
       "  <tbody>\n",
       "    <tr>\n",
       "      <th>6</th>\n",
       "      <td>left canine width casts</td>\n",
       "      <td>9.288489</td>\n",
       "    </tr>\n",
       "    <tr>\n",
       "      <th>5</th>\n",
       "      <td>left canine width intraoral</td>\n",
       "      <td>8.943845</td>\n",
       "    </tr>\n",
       "    <tr>\n",
       "      <th>1</th>\n",
       "      <td>inter canine distance intraoral</td>\n",
       "      <td>8.051697</td>\n",
       "    </tr>\n",
       "    <tr>\n",
       "      <th>3</th>\n",
       "      <td>right canine width intraoral</td>\n",
       "      <td>7.284305</td>\n",
       "    </tr>\n",
       "    <tr>\n",
       "      <th>4</th>\n",
       "      <td>right canine width casts</td>\n",
       "      <td>7.228491</td>\n",
       "    </tr>\n",
       "    <tr>\n",
       "      <th>2</th>\n",
       "      <td>intercanine distance casts</td>\n",
       "      <td>4.463575</td>\n",
       "    </tr>\n",
       "    <tr>\n",
       "      <th>0</th>\n",
       "      <td>Age</td>\n",
       "      <td>3.298344</td>\n",
       "    </tr>\n",
       "    <tr>\n",
       "      <th>10</th>\n",
       "      <td>left canine index casts</td>\n",
       "      <td>0.096843</td>\n",
       "    </tr>\n",
       "    <tr>\n",
       "      <th>9</th>\n",
       "      <td>left canine index intraoral</td>\n",
       "      <td>0.095045</td>\n",
       "    </tr>\n",
       "    <tr>\n",
       "      <th>8</th>\n",
       "      <td>right canine index casts</td>\n",
       "      <td>0.063348</td>\n",
       "    </tr>\n",
       "    <tr>\n",
       "      <th>7</th>\n",
       "      <td>right canine index intra oral</td>\n",
       "      <td>0.042300</td>\n",
       "    </tr>\n",
       "  </tbody>\n",
       "</table>\n",
       "</div>"
      ],
      "text/plain": [
       "                           fetaures    scores\n",
       "6           left canine width casts  9.288489\n",
       "5       left canine width intraoral  8.943845\n",
       "1   inter canine distance intraoral  8.051697\n",
       "3      right canine width intraoral  7.284305\n",
       "4          right canine width casts  7.228491\n",
       "2        intercanine distance casts  4.463575\n",
       "0                               Age  3.298344\n",
       "10          left canine index casts  0.096843\n",
       "9       left canine index intraoral  0.095045\n",
       "8          right canine index casts  0.063348\n",
       "7     right canine index intra oral  0.042300"
      ]
     },
     "execution_count": 25,
     "metadata": {},
     "output_type": "execute_result"
    }
   ],
   "source": [
    "feature_scores = pd.concat([pd.DataFrame(x.columns),pd.DataFrame(fit.scores_)],axis = 1)\n",
    "feature_scores.columns = [\"fetaures\",\"scores\"]\n",
    "feature_scores.sort_values(by = 'scores',ascending = False)"
   ]
  },
  {
   "cell_type": "code",
   "execution_count": 26,
   "id": "833dd9ca",
   "metadata": {},
   "outputs": [
    {
     "data": {
      "text/html": [
       "<div>\n",
       "<style scoped>\n",
       "    .dataframe tbody tr th:only-of-type {\n",
       "        vertical-align: middle;\n",
       "    }\n",
       "\n",
       "    .dataframe tbody tr th {\n",
       "        vertical-align: top;\n",
       "    }\n",
       "\n",
       "    .dataframe thead th {\n",
       "        text-align: right;\n",
       "    }\n",
       "</style>\n",
       "<table border=\"1\" class=\"dataframe\">\n",
       "  <thead>\n",
       "    <tr style=\"text-align: right;\">\n",
       "      <th></th>\n",
       "      <th>fetaures</th>\n",
       "      <th>scores</th>\n",
       "    </tr>\n",
       "  </thead>\n",
       "  <tbody>\n",
       "    <tr>\n",
       "      <th>6</th>\n",
       "      <td>left canine width casts</td>\n",
       "      <td>9.288489</td>\n",
       "    </tr>\n",
       "    <tr>\n",
       "      <th>5</th>\n",
       "      <td>left canine width intraoral</td>\n",
       "      <td>8.943845</td>\n",
       "    </tr>\n",
       "    <tr>\n",
       "      <th>1</th>\n",
       "      <td>inter canine distance intraoral</td>\n",
       "      <td>8.051697</td>\n",
       "    </tr>\n",
       "    <tr>\n",
       "      <th>3</th>\n",
       "      <td>right canine width intraoral</td>\n",
       "      <td>7.284305</td>\n",
       "    </tr>\n",
       "    <tr>\n",
       "      <th>4</th>\n",
       "      <td>right canine width casts</td>\n",
       "      <td>7.228491</td>\n",
       "    </tr>\n",
       "    <tr>\n",
       "      <th>2</th>\n",
       "      <td>intercanine distance casts</td>\n",
       "      <td>4.463575</td>\n",
       "    </tr>\n",
       "    <tr>\n",
       "      <th>0</th>\n",
       "      <td>Age</td>\n",
       "      <td>3.298344</td>\n",
       "    </tr>\n",
       "  </tbody>\n",
       "</table>\n",
       "</div>"
      ],
      "text/plain": [
       "                          fetaures    scores\n",
       "6          left canine width casts  9.288489\n",
       "5      left canine width intraoral  8.943845\n",
       "1  inter canine distance intraoral  8.051697\n",
       "3     right canine width intraoral  7.284305\n",
       "4         right canine width casts  7.228491\n",
       "2       intercanine distance casts  4.463575\n",
       "0                              Age  3.298344"
      ]
     },
     "execution_count": 26,
     "metadata": {},
     "output_type": "execute_result"
    }
   ],
   "source": [
    "feature_scores.nlargest(7,'scores')"
   ]
  },
  {
   "cell_type": "code",
   "execution_count": 27,
   "id": "8b7ac4d8",
   "metadata": {},
   "outputs": [
    {
     "name": "stdout",
     "output_type": "stream",
     "text": [
      "Highly Related Features which can be removed:                           fetaures    scores\n",
      "6          left canine width casts  9.288489\n",
      "5      left canine width intraoral  8.943845\n",
      "1  inter canine distance intraoral  8.051697\n"
     ]
    }
   ],
   "source": [
    "Highly_Related_Features = feature_scores.nlargest(3,'scores')\n",
    "print('Highly Related Features which can be removed:',Highly_Related_Features)"
   ]
  },
  {
   "cell_type": "code",
   "execution_count": 28,
   "id": "ec09c453",
   "metadata": {},
   "outputs": [],
   "source": [
    "New_DF = New_DF.drop(['left canine width casts','left canine width intraoral','inter canine distance intraoral'],axis =1)"
   ]
  },
  {
   "cell_type": "code",
   "execution_count": 29,
   "id": "e60d1c85",
   "metadata": {},
   "outputs": [
    {
     "data": {
      "image/png": "[encoded data removed]",
      "text/plain": [
       "<Figure size 864x720 with 2 Axes>"
      ]
     },
     "metadata": {
      "needs_background": "light"
     },
     "output_type": "display_data"
    }
   ],
   "source": [
    "plt.figure(figsize = (12,10))\n",
    "sns.heatmap(New_DF.corr(), annot = True, cmap = plt.cm.CMRmap_r)\n",
    "plt.show()"
   ]
  },
  {
   "cell_type": "code",
   "execution_count": 30,
   "id": "d9846492",
   "metadata": {},
   "outputs": [],
   "source": [
    "#After performing Chi square tests we could see still we have some highlt correlated feature.\n",
    "#Hence we need to perform Correlation"
   ]
  },
  {
   "cell_type": "code",
   "execution_count": 31,
   "id": "6a71ac72",
   "metadata": {},
   "outputs": [
    {
     "data": {
      "image/png": "[encoded data removed]",
      "text/plain": [
       "<Figure size 864x720 with 2 Axes>"
      ]
     },
     "metadata": {
      "needs_background": "light"
     },
     "output_type": "display_data"
    }
   ],
   "source": [
    "plt.figure(figsize = (12,10))\n",
    "sns.heatmap(DF.corr(), annot = True, cmap = plt.cm.CMRmap_r)\n",
    "plt.show()"
   ]
  },
  {
   "cell_type": "code",
   "execution_count": 32,
   "id": "697237ec",
   "metadata": {},
   "outputs": [],
   "source": [
    "#DF.corr()"
   ]
  },
  {
   "cell_type": "code",
   "execution_count": 33,
   "id": "20fc75ff",
   "metadata": {},
   "outputs": [],
   "source": [
    "#Detecting Highly co-related Feature and dropping them\n",
    "def correlation(dataset,Threshold):\n",
    "    col_corr= set()\n",
    "    corr_matrix = dataset.corr()\n",
    "    for i in range(len(corr_matrix.columns)):\n",
    "        for j in range(i):\n",
    "            if abs(corr_matrix.iloc[i,j])>Threshold:\n",
    "                columname = corr_matrix.columns[i]\n",
    "                col_corr.add(columname)\n",
    "    return col_corr   "
   ]
  },
  {
   "cell_type": "code",
   "execution_count": 34,
   "id": "e87d0398",
   "metadata": {},
   "outputs": [
    {
     "name": "stdout",
     "output_type": "stream",
     "text": [
      "No. of High Co-related features: 3\n",
      "Highly co-related Features are: {'left canine width casts', 'left canine index casts', 'right canine width casts'}\n"
     ]
    }
   ],
   "source": [
    "correlated_features = correlation(DF,0.95)\n",
    "print('No. of High Co-related features:',len(correlated_features))\n",
    "print('Highly co-related Features are:',correlated_features)"
   ]
  },
  {
   "cell_type": "code",
   "execution_count": 35,
   "id": "a86a1a3f",
   "metadata": {},
   "outputs": [],
   "source": [
    "#left canine index casts,right canine width casts and left canine width casts can be dropped from the features for better predictio\n",
    "#due to their high collinerity\n",
    "\n",
    "DF = DF.drop(['left canine index casts','left canine width casts','right canine width casts'],axis =1)"
   ]
  },
  {
   "cell_type": "code",
   "execution_count": 36,
   "id": "4924ac14",
   "metadata": {},
   "outputs": [
    {
     "data": {
      "image/png": "[encoded data removed]",
      "text/plain": [
       "<Figure size 864x720 with 2 Axes>"
      ]
     },
     "metadata": {
      "needs_background": "light"
     },
     "output_type": "display_data"
    }
   ],
   "source": [
    "plt.figure(figsize = (12,10))\n",
    "sns.heatmap(DF.corr(),  cmap = 'coolwarm')\n",
    "plt.show()"
   ]
  },
  {
   "cell_type": "code",
   "execution_count": 37,
   "id": "240117c5",
   "metadata": {},
   "outputs": [
    {
     "data": {
      "text/plain": [
       "(1077, 9)"
      ]
     },
     "execution_count": 37,
     "metadata": {},
     "output_type": "execute_result"
    }
   ],
   "source": [
    "#Shape of Dataset before removing outliers\n",
    "DF.shape"
   ]
  },
  {
   "cell_type": "code",
   "execution_count": 39,
   "id": "c103aadd",
   "metadata": {},
   "outputs": [
    {
     "data": {
      "text/plain": [
       "(array([0, 1, 2, 3, 4, 5, 6, 7, 8]),\n",
       " [Text(0, 0, 'Age'),\n",
       "  Text(1, 0, 'Gender'),\n",
       "  Text(2, 0, 'inter canine distance intraoral'),\n",
       "  Text(3, 0, 'intercanine distance casts'),\n",
       "  Text(4, 0, 'right canine width intraoral'),\n",
       "  Text(5, 0, 'left canine width intraoral'),\n",
       "  Text(6, 0, 'right canine index intra oral'),\n",
       "  Text(7, 0, 'right canine index casts'),\n",
       "  Text(8, 0, 'left canine index intraoral')])"
      ]
     },
     "execution_count": 39,
     "metadata": {},
     "output_type": "execute_result"
    },
    {
     "data": {
      "image/png": "[encoded data removed]",
      "text/plain": [
       "<Figure size 1440x1440 with 1 Axes>"
      ]
     },
     "metadata": {
      "needs_background": "light"
     },
     "output_type": "display_data"
    }
   ],
   "source": [
    "plt.figure(figsize=(20,20)) \n",
    "sns.boxplot(data=DF)\n",
    "plt.xticks(rotation=90)"
   ]
  },
  {
   "cell_type": "code",
   "execution_count": 40,
   "id": "767d1e79",
   "metadata": {},
   "outputs": [
    {
     "data": {
      "text/html": [
       "<div>\n",
       "<style scoped>\n",
       "    .dataframe tbody tr th:only-of-type {\n",
       "        vertical-align: middle;\n",
       "    }\n",
       "\n",
       "    .dataframe tbody tr th {\n",
       "        vertical-align: top;\n",
       "    }\n",
       "\n",
       "    .dataframe thead th {\n",
       "        text-align: right;\n",
       "    }\n",
       "</style>\n",
       "<table border=\"1\" class=\"dataframe\">\n",
       "  <thead>\n",
       "    <tr style=\"text-align: right;\">\n",
       "      <th></th>\n",
       "      <th>Age</th>\n",
       "      <th>Gender</th>\n",
       "      <th>inter canine distance intraoral</th>\n",
       "      <th>intercanine distance casts</th>\n",
       "      <th>right canine width intraoral</th>\n",
       "      <th>left canine width intraoral</th>\n",
       "      <th>right canine index intra oral</th>\n",
       "      <th>right canine index casts</th>\n",
       "      <th>left canine index intraoral</th>\n",
       "    </tr>\n",
       "  </thead>\n",
       "  <tbody>\n",
       "    <tr>\n",
       "      <th>0.25</th>\n",
       "      <td>20.0</td>\n",
       "      <td>0.0</td>\n",
       "      <td>24.99</td>\n",
       "      <td>24.97</td>\n",
       "      <td>6.29</td>\n",
       "      <td>6.40</td>\n",
       "      <td>0.242</td>\n",
       "      <td>0.242</td>\n",
       "      <td>0.247</td>\n",
       "    </tr>\n",
       "    <tr>\n",
       "      <th>0.50</th>\n",
       "      <td>22.0</td>\n",
       "      <td>1.0</td>\n",
       "      <td>25.89</td>\n",
       "      <td>25.89</td>\n",
       "      <td>6.52</td>\n",
       "      <td>6.66</td>\n",
       "      <td>0.253</td>\n",
       "      <td>0.253</td>\n",
       "      <td>0.255</td>\n",
       "    </tr>\n",
       "    <tr>\n",
       "      <th>0.75</th>\n",
       "      <td>23.0</td>\n",
       "      <td>1.0</td>\n",
       "      <td>26.98</td>\n",
       "      <td>26.98</td>\n",
       "      <td>6.80</td>\n",
       "      <td>6.90</td>\n",
       "      <td>0.262</td>\n",
       "      <td>0.261</td>\n",
       "      <td>0.264</td>\n",
       "    </tr>\n",
       "  </tbody>\n",
       "</table>\n",
       "</div>"
      ],
      "text/plain": [
       "       Age  Gender  inter canine distance intraoral  \\\n",
       "0.25  20.0     0.0                            24.99   \n",
       "0.50  22.0     1.0                            25.89   \n",
       "0.75  23.0     1.0                            26.98   \n",
       "\n",
       "      intercanine distance casts  right canine width intraoral  \\\n",
       "0.25                       24.97                          6.29   \n",
       "0.50                       25.89                          6.52   \n",
       "0.75                       26.98                          6.80   \n",
       "\n",
       "      left canine width intraoral  right canine index intra oral  \\\n",
       "0.25                         6.40                          0.242   \n",
       "0.50                         6.66                          0.253   \n",
       "0.75                         6.90                          0.262   \n",
       "\n",
       "      right canine index casts  left canine index intraoral  \n",
       "0.25                     0.242                        0.247  \n",
       "0.50                     0.253                        0.255  \n",
       "0.75                     0.261                        0.264  "
      ]
     },
     "execution_count": 40,
     "metadata": {},
     "output_type": "execute_result"
    }
   ],
   "source": [
    "DF.quantile([.25,.5,.75],axis = 0)"
   ]
  },
  {
   "cell_type": "code",
   "execution_count": 41,
   "id": "2dbdce4d",
   "metadata": {},
   "outputs": [
    {
     "data": {
      "text/html": [
       "<div>\n",
       "<style scoped>\n",
       "    .dataframe tbody tr th:only-of-type {\n",
       "        vertical-align: middle;\n",
       "    }\n",
       "\n",
       "    .dataframe tbody tr th {\n",
       "        vertical-align: top;\n",
       "    }\n",
       "\n",
       "    .dataframe thead th {\n",
       "        text-align: right;\n",
       "    }\n",
       "</style>\n",
       "<table border=\"1\" class=\"dataframe\">\n",
       "  <thead>\n",
       "    <tr style=\"text-align: right;\">\n",
       "      <th></th>\n",
       "      <th>Age</th>\n",
       "      <th>Gender</th>\n",
       "      <th>inter canine distance intraoral</th>\n",
       "      <th>intercanine distance casts</th>\n",
       "      <th>right canine width intraoral</th>\n",
       "      <th>left canine width intraoral</th>\n",
       "      <th>right canine index intra oral</th>\n",
       "      <th>right canine index casts</th>\n",
       "      <th>left canine index intraoral</th>\n",
       "    </tr>\n",
       "  </thead>\n",
       "  <tbody>\n",
       "    <tr>\n",
       "      <th>count</th>\n",
       "      <td>1077.00000</td>\n",
       "      <td>1077.000000</td>\n",
       "      <td>1077.000000</td>\n",
       "      <td>1077.000000</td>\n",
       "      <td>1077.000000</td>\n",
       "      <td>1077.000000</td>\n",
       "      <td>1077.000000</td>\n",
       "      <td>1077.000000</td>\n",
       "      <td>1077.000000</td>\n",
       "    </tr>\n",
       "    <tr>\n",
       "      <th>mean</th>\n",
       "      <td>21.62117</td>\n",
       "      <td>0.501393</td>\n",
       "      <td>25.981188</td>\n",
       "      <td>25.869842</td>\n",
       "      <td>6.560149</td>\n",
       "      <td>6.667604</td>\n",
       "      <td>0.253104</td>\n",
       "      <td>0.252319</td>\n",
       "      <td>0.256456</td>\n",
       "    </tr>\n",
       "    <tr>\n",
       "      <th>std</th>\n",
       "      <td>2.07289</td>\n",
       "      <td>0.500230</td>\n",
       "      <td>1.309747</td>\n",
       "      <td>1.867892</td>\n",
       "      <td>0.378103</td>\n",
       "      <td>0.375512</td>\n",
       "      <td>0.015395</td>\n",
       "      <td>0.012894</td>\n",
       "      <td>0.012358</td>\n",
       "    </tr>\n",
       "    <tr>\n",
       "      <th>min</th>\n",
       "      <td>18.00000</td>\n",
       "      <td>0.000000</td>\n",
       "      <td>23.120000</td>\n",
       "      <td>6.540000</td>\n",
       "      <td>5.460000</td>\n",
       "      <td>5.460000</td>\n",
       "      <td>0.223000</td>\n",
       "      <td>0.223000</td>\n",
       "      <td>0.223000</td>\n",
       "    </tr>\n",
       "    <tr>\n",
       "      <th>25%</th>\n",
       "      <td>20.00000</td>\n",
       "      <td>0.000000</td>\n",
       "      <td>24.990000</td>\n",
       "      <td>24.970000</td>\n",
       "      <td>6.290000</td>\n",
       "      <td>6.400000</td>\n",
       "      <td>0.242000</td>\n",
       "      <td>0.242000</td>\n",
       "      <td>0.247000</td>\n",
       "    </tr>\n",
       "    <tr>\n",
       "      <th>50%</th>\n",
       "      <td>22.00000</td>\n",
       "      <td>1.000000</td>\n",
       "      <td>25.890000</td>\n",
       "      <td>25.890000</td>\n",
       "      <td>6.520000</td>\n",
       "      <td>6.660000</td>\n",
       "      <td>0.253000</td>\n",
       "      <td>0.253000</td>\n",
       "      <td>0.255000</td>\n",
       "    </tr>\n",
       "    <tr>\n",
       "      <th>75%</th>\n",
       "      <td>23.00000</td>\n",
       "      <td>1.000000</td>\n",
       "      <td>26.980000</td>\n",
       "      <td>26.980000</td>\n",
       "      <td>6.800000</td>\n",
       "      <td>6.900000</td>\n",
       "      <td>0.262000</td>\n",
       "      <td>0.261000</td>\n",
       "      <td>0.264000</td>\n",
       "    </tr>\n",
       "    <tr>\n",
       "      <th>max</th>\n",
       "      <td>25.00000</td>\n",
       "      <td>1.000000</td>\n",
       "      <td>30.310000</td>\n",
       "      <td>30.310000</td>\n",
       "      <td>7.610000</td>\n",
       "      <td>7.810000</td>\n",
       "      <td>0.363000</td>\n",
       "      <td>0.302000</td>\n",
       "      <td>0.305000</td>\n",
       "    </tr>\n",
       "  </tbody>\n",
       "</table>\n",
       "</div>"
      ],
      "text/plain": [
       "              Age       Gender  inter canine distance intraoral  \\\n",
       "count  1077.00000  1077.000000                      1077.000000   \n",
       "mean     21.62117     0.501393                        25.981188   \n",
       "std       2.07289     0.500230                         1.309747   \n",
       "min      18.00000     0.000000                        23.120000   \n",
       "25%      20.00000     0.000000                        24.990000   \n",
       "50%      22.00000     1.000000                        25.890000   \n",
       "75%      23.00000     1.000000                        26.980000   \n",
       "max      25.00000     1.000000                        30.310000   \n",
       "\n",
       "       intercanine distance casts  right canine width intraoral  \\\n",
       "count                 1077.000000                   1077.000000   \n",
       "mean                    25.869842                      6.560149   \n",
       "std                      1.867892                      0.378103   \n",
       "min                      6.540000                      5.460000   \n",
       "25%                     24.970000                      6.290000   \n",
       "50%                     25.890000                      6.520000   \n",
       "75%                     26.980000                      6.800000   \n",
       "max                     30.310000                      7.610000   \n",
       "\n",
       "       left canine width intraoral  right canine index intra oral  \\\n",
       "count                  1077.000000                    1077.000000   \n",
       "mean                      6.667604                       0.253104   \n",
       "std                       0.375512                       0.015395   \n",
       "min                       5.460000                       0.223000   \n",
       "25%                       6.400000                       0.242000   \n",
       "50%                       6.660000                       0.253000   \n",
       "75%                       6.900000                       0.262000   \n",
       "max                       7.810000                       0.363000   \n",
       "\n",
       "       right canine index casts  left canine index intraoral  \n",
       "count               1077.000000                  1077.000000  \n",
       "mean                   0.252319                     0.256456  \n",
       "std                    0.012894                     0.012358  \n",
       "min                    0.223000                     0.223000  \n",
       "25%                    0.242000                     0.247000  \n",
       "50%                    0.253000                     0.255000  \n",
       "75%                    0.261000                     0.264000  \n",
       "max                    0.302000                     0.305000  "
      ]
     },
     "execution_count": 41,
     "metadata": {},
     "output_type": "execute_result"
    }
   ],
   "source": [
    "DF.describe()"
   ]
  },
  {
   "cell_type": "code",
   "execution_count": 42,
   "id": "e1e245cd",
   "metadata": {},
   "outputs": [
    {
     "data": {
      "text/plain": [
       "Index(['Age', 'Gender', 'inter canine distance intraoral',\n",
       "       'intercanine distance casts', 'right canine width intraoral',\n",
       "       'left canine width intraoral', 'right canine index intra oral',\n",
       "       'right canine index casts', 'left canine index intraoral'],\n",
       "      dtype='object')"
      ]
     },
     "execution_count": 42,
     "metadata": {},
     "output_type": "execute_result"
    }
   ],
   "source": [
    "colom = DF.columns\n",
    "colom"
   ]
  },
  {
   "cell_type": "code",
   "execution_count": 43,
   "id": "6e37f0be",
   "metadata": {},
   "outputs": [
    {
     "name": "stdout",
     "output_type": "stream",
     "text": [
      "IQR is: 1.990000000000002\n",
      "Upper Limit is: 29.965000000000003\n",
      "Lower Limit is: 22.004999999999995\n"
     ]
    }
   ],
   "source": [
    "IQR = DF['inter canine distance intraoral'].quantile(0.75) - DF['inter canine distance intraoral'].quantile(0.25)\n",
    "Upper_Limit = DF['inter canine distance intraoral'].quantile(0.75) + 1.5 * IQR\n",
    "Lower_Limit = DF['inter canine distance intraoral'].quantile(0.25) - 1.5 * IQR\n",
    "\n",
    "print('IQR is:',IQR)\n",
    "print('Upper Limit is:',Upper_Limit)\n",
    "print('Lower Limit is:',Lower_Limit)"
   ]
  },
  {
   "cell_type": "code",
   "execution_count": 44,
   "id": "f04f7a13",
   "metadata": {},
   "outputs": [],
   "source": [
    "Data = DF['inter canine distance intraoral']"
   ]
  },
  {
   "cell_type": "code",
   "execution_count": 45,
   "id": "a852ee90",
   "metadata": {},
   "outputs": [
    {
     "name": "stdout",
     "output_type": "stream",
     "text": [
      " outlier in the dataset is [30.31, 30.03]\n"
     ]
    }
   ],
   "source": [
    "outlier = []\n",
    "for x in Data:\n",
    "    if (x>Upper_Limit) or (x<Lower_Limit):\n",
    "        outlier.append(x)\n",
    "print(' outlier in the dataset is', outlier)"
   ]
  },
  {
   "cell_type": "code",
   "execution_count": 46,
   "id": "506abf55",
   "metadata": {},
   "outputs": [],
   "source": [
    "def outliers(df,field):\n",
    "    IQR = df[field].quantile(0.75) - df[field].quantile(0.25)\n",
    "    Upper_Limit = df[field].quantile(0.65) + 1.5 * IQR\n",
    "    Lower_Limit = df[field].quantile(0.25) - 1.5 * IQR\n",
    "    ls = df.index[(df[field]<Lower_Limit) | (df[field]>Upper_Limit)]\n",
    "    return ls\n",
    "\n",
    "index_list = []\n",
    "\n",
    "for feature in colom:\n",
    "    index_list.extend(outliers(DF,feature))\n",
    "\n"
   ]
  },
  {
   "cell_type": "code",
   "execution_count": 47,
   "id": "274f76c3",
   "metadata": {},
   "outputs": [
    {
     "data": {
      "text/plain": [
       "[66,\n",
       " 760,\n",
       " 762,\n",
       " 66,\n",
       " 90,\n",
       " 760,\n",
       " 762,\n",
       " 1000,\n",
       " 1001,\n",
       " 1002,\n",
       " 1003,\n",
       " 1004,\n",
       " 1005,\n",
       " 1006,\n",
       " 1007,\n",
       " 1008,\n",
       " 1009,\n",
       " 45,\n",
       " 54,\n",
       " 61,\n",
       " 559,\n",
       " 691,\n",
       " 700,\n",
       " 705,\n",
       " 710,\n",
       " 712,\n",
       " 715,\n",
       " 717,\n",
       " 731,\n",
       " 736,\n",
       " 767,\n",
       " 45,\n",
       " 54,\n",
       " 61,\n",
       " 550,\n",
       " 559,\n",
       " 640,\n",
       " 641,\n",
       " 644,\n",
       " 645,\n",
       " 649,\n",
       " 666,\n",
       " 691,\n",
       " 700,\n",
       " 710,\n",
       " 712,\n",
       " 715,\n",
       " 717,\n",
       " 731,\n",
       " 34,\n",
       " 57,\n",
       " 422,\n",
       " 423,\n",
       " 428,\n",
       " 441,\n",
       " 442,\n",
       " 444,\n",
       " 446,\n",
       " 447,\n",
       " 485,\n",
       " 613,\n",
       " 673,\n",
       " 677,\n",
       " 679,\n",
       " 686,\n",
       " 692,\n",
       " 693,\n",
       " 706,\n",
       " 57,\n",
       " 613,\n",
       " 671,\n",
       " 673,\n",
       " 677,\n",
       " 679,\n",
       " 686,\n",
       " 692,\n",
       " 693,\n",
       " 706,\n",
       " 57,\n",
       " 62,\n",
       " 613,\n",
       " 671,\n",
       " 673,\n",
       " 677,\n",
       " 679,\n",
       " 686,\n",
       " 692,\n",
       " 693,\n",
       " 706,\n",
       " 721,\n",
       " 723,\n",
       " 724,\n",
       " 725,\n",
       " 728,\n",
       " 729,\n",
       " 739]"
      ]
     },
     "execution_count": 47,
     "metadata": {},
     "output_type": "execute_result"
    }
   ],
   "source": [
    "index_list "
   ]
  },
  {
   "cell_type": "code",
   "execution_count": 48,
   "id": "8cd2b38d",
   "metadata": {},
   "outputs": [],
   "source": [
    "def remove_outliers(df,ls):\n",
    "    ls = sorted(set(ls))\n",
    "    df = df.drop(ls)\n",
    "    return df"
   ]
  },
  {
   "cell_type": "code",
   "execution_count": 49,
   "id": "b90b78dc",
   "metadata": {},
   "outputs": [],
   "source": [
    "DF = remove_outliers(DF,index_list)"
   ]
  },
  {
   "cell_type": "code",
   "execution_count": 50,
   "id": "f5c689c9",
   "metadata": {},
   "outputs": [
    {
     "data": {
      "text/plain": [
       "(1014, 9)"
      ]
     },
     "execution_count": 50,
     "metadata": {},
     "output_type": "execute_result"
    }
   ],
   "source": [
    "#Shape of dataset after removing outliers\n",
    "DF.shape"
   ]
  },
  {
   "cell_type": "code",
   "execution_count": 51,
   "id": "a323582f",
   "metadata": {},
   "outputs": [],
   "source": [
    "#check = 30.31\n",
    "#check"
   ]
  },
  {
   "cell_type": "code",
   "execution_count": 52,
   "id": "a86076ba",
   "metadata": {},
   "outputs": [],
   "source": [
    "#if check not in DF.values :\n",
    "#    print(\"\\nFor Loop worked\")\n",
    "#else :\n",
    "#    print(\"\\nFor Loop failed\")"
   ]
  },
  {
   "cell_type": "code",
   "execution_count": 53,
   "id": "3796a769",
   "metadata": {},
   "outputs": [
    {
     "data": {
      "text/plain": [
       "(array([0, 1, 2, 3, 4, 5, 6, 7, 8]),\n",
       " [Text(0, 0, 'Age'),\n",
       "  Text(1, 0, 'Gender'),\n",
       "  Text(2, 0, 'inter canine distance intraoral'),\n",
       "  Text(3, 0, 'intercanine distance casts'),\n",
       "  Text(4, 0, 'right canine width intraoral'),\n",
       "  Text(5, 0, 'left canine width intraoral'),\n",
       "  Text(6, 0, 'right canine index intra oral'),\n",
       "  Text(7, 0, 'right canine index casts'),\n",
       "  Text(8, 0, 'left canine index intraoral')])"
      ]
     },
     "execution_count": 53,
     "metadata": {},
     "output_type": "execute_result"
    },
    {
     "data": {
      "image/png": "[encoded data removed]",
      "text/plain": [
       "<Figure size 1440x1440 with 1 Axes>"
      ]
     },
     "metadata": {
      "needs_background": "light"
     },
     "output_type": "display_data"
    }
   ],
   "source": [
    "plt.figure(figsize=(20,20)) \n",
    "sns.boxplot(data=DF)\n",
    "plt.xticks(rotation=90)"
   ]
  },
  {
   "cell_type": "code",
   "execution_count": 54,
   "id": "0e27809b",
   "metadata": {},
   "outputs": [],
   "source": [
    "X = DF.drop('Gender',axis = 1)\n",
    "y = DF['Gender']"
   ]
  },
  {
   "cell_type": "code",
   "execution_count": 55,
   "id": "f870d85a",
   "metadata": {},
   "outputs": [
    {
     "data": {
      "text/plain": [
       "(1014, 8)"
      ]
     },
     "execution_count": 55,
     "metadata": {},
     "output_type": "execute_result"
    }
   ],
   "source": [
    "X.shape"
   ]
  },
  {
   "cell_type": "code",
   "execution_count": 56,
   "id": "ba6d8106",
   "metadata": {},
   "outputs": [
    {
     "data": {
      "text/plain": [
       "(1014,)"
      ]
     },
     "execution_count": 56,
     "metadata": {},
     "output_type": "execute_result"
    }
   ],
   "source": [
    "y.shape"
   ]
  },
  {
   "cell_type": "code",
   "execution_count": 57,
   "id": "13b7bfdf",
   "metadata": {},
   "outputs": [],
   "source": [
    "X_train, X_test, y_train, y_test = train_test_split(X, y, test_size=0.25, random_state=100)"
   ]
  },
  {
   "cell_type": "code",
   "execution_count": 58,
   "id": "4a3504db",
   "metadata": {},
   "outputs": [
    {
     "data": {
      "text/plain": [
       "(760, 8)"
      ]
     },
     "execution_count": 58,
     "metadata": {},
     "output_type": "execute_result"
    }
   ],
   "source": [
    "X_train.shape"
   ]
  },
  {
   "cell_type": "code",
   "execution_count": 59,
   "id": "3aa7fed6",
   "metadata": {},
   "outputs": [
    {
     "data": {
      "text/plain": [
       "(254, 8)"
      ]
     },
     "execution_count": 59,
     "metadata": {},
     "output_type": "execute_result"
    }
   ],
   "source": [
    "X_test.shape"
   ]
  },
  {
   "cell_type": "code",
   "execution_count": 60,
   "id": "0580ffac",
   "metadata": {},
   "outputs": [
    {
     "data": {
      "text/plain": [
       "(760,)"
      ]
     },
     "execution_count": 60,
     "metadata": {},
     "output_type": "execute_result"
    }
   ],
   "source": [
    "y_train.shape"
   ]
  },
  {
   "cell_type": "code",
   "execution_count": 61,
   "id": "9112ee3f",
   "metadata": {},
   "outputs": [
    {
     "data": {
      "text/plain": [
       "(254,)"
      ]
     },
     "execution_count": 61,
     "metadata": {},
     "output_type": "execute_result"
    }
   ],
   "source": [
    "y_test.shape"
   ]
  },
  {
   "cell_type": "code",
   "execution_count": 62,
   "id": "a340a4ad",
   "metadata": {},
   "outputs": [
    {
     "data": {
      "text/plain": [
       "StandardScaler()"
      ]
     },
     "execution_count": 62,
     "metadata": {},
     "output_type": "execute_result"
    }
   ],
   "source": [
    "scaler = StandardScaler()\n",
    "scaler"
   ]
  },
  {
   "cell_type": "code",
   "execution_count": 63,
   "id": "37e6cb28",
   "metadata": {},
   "outputs": [
    {
     "name": "stderr",
     "output_type": "stream",
     "text": [
      "C:\\Users\\Admin\\anaconda3\\lib\\site-packages\\pandas\\core\\frame.py:3678: SettingWithCopyWarning: \n",
      "A value is trying to be set on a copy of a slice from a DataFrame.\n",
      "Try using .loc[row_indexer,col_indexer] = value instead\n",
      "\n",
      "See the caveats in the documentation: https://pandas.pydata.org/pandas-docs/stable/user_guide/indexing.html#returning-a-view-versus-a-copy\n",
      "  self[col] = igetitem(value, i)\n",
      "C:\\Users\\Admin\\anaconda3\\lib\\site-packages\\pandas\\core\\frame.py:3678: SettingWithCopyWarning: \n",
      "A value is trying to be set on a copy of a slice from a DataFrame.\n",
      "Try using .loc[row_indexer,col_indexer] = value instead\n",
      "\n",
      "See the caveats in the documentation: https://pandas.pydata.org/pandas-docs/stable/user_guide/indexing.html#returning-a-view-versus-a-copy\n",
      "  self[col] = igetitem(value, i)\n"
     ]
    }
   ],
   "source": [
    "train_vars = X_train.columns\n",
    "\n",
    "\n",
    "X_train[train_vars] = scaler.fit_transform(X_train[train_vars])\n",
    "X_test[train_vars] = scaler.fit_transform(X_test[train_vars])"
   ]
  },
  {
   "cell_type": "code",
   "execution_count": 64,
   "id": "81967c54",
   "metadata": {},
   "outputs": [
    {
     "data": {
      "text/html": [
       "<div>\n",
       "<style scoped>\n",
       "    .dataframe tbody tr th:only-of-type {\n",
       "        vertical-align: middle;\n",
       "    }\n",
       "\n",
       "    .dataframe tbody tr th {\n",
       "        vertical-align: top;\n",
       "    }\n",
       "\n",
       "    .dataframe thead th {\n",
       "        text-align: right;\n",
       "    }\n",
       "</style>\n",
       "<table border=\"1\" class=\"dataframe\">\n",
       "  <thead>\n",
       "    <tr style=\"text-align: right;\">\n",
       "      <th></th>\n",
       "      <th>Age</th>\n",
       "      <th>inter canine distance intraoral</th>\n",
       "      <th>intercanine distance casts</th>\n",
       "      <th>right canine width intraoral</th>\n",
       "      <th>left canine width intraoral</th>\n",
       "      <th>right canine index intra oral</th>\n",
       "      <th>right canine index casts</th>\n",
       "      <th>left canine index intraoral</th>\n",
       "    </tr>\n",
       "  </thead>\n",
       "  <tbody>\n",
       "    <tr>\n",
       "      <th>868</th>\n",
       "      <td>-0.311736</td>\n",
       "      <td>-1.306066</td>\n",
       "      <td>-1.307239</td>\n",
       "      <td>-0.199991</td>\n",
       "      <td>0.837722</td>\n",
       "      <td>1.116140</td>\n",
       "      <td>1.121704</td>\n",
       "      <td>2.571718</td>\n",
       "    </tr>\n",
       "    <tr>\n",
       "      <th>160</th>\n",
       "      <td>-0.311736</td>\n",
       "      <td>1.045920</td>\n",
       "      <td>1.075871</td>\n",
       "      <td>-0.679196</td>\n",
       "      <td>0.093114</td>\n",
       "      <td>-1.784625</td>\n",
       "      <td>-1.785284</td>\n",
       "      <td>-1.014531</td>\n",
       "    </tr>\n",
       "    <tr>\n",
       "      <th>990</th>\n",
       "      <td>-0.311736</td>\n",
       "      <td>1.261187</td>\n",
       "      <td>1.259187</td>\n",
       "      <td>1.491324</td>\n",
       "      <td>1.210026</td>\n",
       "      <td>0.453108</td>\n",
       "      <td>0.457250</td>\n",
       "      <td>0.122572</td>\n",
       "    </tr>\n",
       "    <tr>\n",
       "      <th>414</th>\n",
       "      <td>0.169808</td>\n",
       "      <td>-0.947288</td>\n",
       "      <td>-0.948577</td>\n",
       "      <td>0.194650</td>\n",
       "      <td>-0.107358</td>\n",
       "      <td>1.199019</td>\n",
       "      <td>1.204761</td>\n",
       "      <td>0.909798</td>\n",
       "    </tr>\n",
       "    <tr>\n",
       "      <th>281</th>\n",
       "      <td>1.132895</td>\n",
       "      <td>1.524291</td>\n",
       "      <td>1.522206</td>\n",
       "      <td>1.463135</td>\n",
       "      <td>1.210026</td>\n",
       "      <td>0.121592</td>\n",
       "      <td>0.125022</td>\n",
       "      <td>-0.314775</td>\n",
       "    </tr>\n",
       "  </tbody>\n",
       "</table>\n",
       "</div>"
      ],
      "text/plain": [
       "          Age  inter canine distance intraoral  intercanine distance casts  \\\n",
       "868 -0.311736                        -1.306066                   -1.307239   \n",
       "160 -0.311736                         1.045920                    1.075871   \n",
       "990 -0.311736                         1.261187                    1.259187   \n",
       "414  0.169808                        -0.947288                   -0.948577   \n",
       "281  1.132895                         1.524291                    1.522206   \n",
       "\n",
       "     right canine width intraoral  left canine width intraoral  \\\n",
       "868                     -0.199991                     0.837722   \n",
       "160                     -0.679196                     0.093114   \n",
       "990                      1.491324                     1.210026   \n",
       "414                      0.194650                    -0.107358   \n",
       "281                      1.463135                     1.210026   \n",
       "\n",
       "     right canine index intra oral  right canine index casts  \\\n",
       "868                       1.116140                  1.121704   \n",
       "160                      -1.784625                 -1.785284   \n",
       "990                       0.453108                  0.457250   \n",
       "414                       1.199019                  1.204761   \n",
       "281                       0.121592                  0.125022   \n",
       "\n",
       "     left canine index intraoral  \n",
       "868                     2.571718  \n",
       "160                    -1.014531  \n",
       "990                     0.122572  \n",
       "414                     0.909798  \n",
       "281                    -0.314775  "
      ]
     },
     "execution_count": 64,
     "metadata": {},
     "output_type": "execute_result"
    }
   ],
   "source": [
    "X_train.head() #The values for variables should be scaled between -1 to 1."
   ]
  },
  {
   "cell_type": "code",
   "execution_count": 65,
   "id": "18d29131",
   "metadata": {},
   "outputs": [
    {
     "name": "stdout",
     "output_type": "stream",
     "text": [
      "The accuracy is 0.8503937007874016\n",
      "The precision is 0.7927927927927928\n",
      "The recall is 0.8543689320388349\n"
     ]
    }
   ],
   "source": [
    "# Using SKLEARN module for random forest\n",
    "from sklearn.ensemble import RandomForestClassifier \n",
    "\n",
    "# Fit and predict\n",
    "naive_rfc = RandomForestClassifier() \n",
    "naive_rfc.fit(X_train, y_train) \n",
    "naive_test_preds = naive_rfc.predict(X_test)\n",
    "\n",
    "\n",
    "# For the performance let's use some metrics from SKLEARN module\n",
    "from sklearn.metrics import accuracy_score, precision_score, recall_score\n",
    "  \n",
    "print(\"The accuracy is {}\".format(accuracy_score(y_test, naive_test_preds) )) \n",
    "print(\"The precision is {}\".format(precision_score(y_test, naive_test_preds)))\n",
    "print(\"The recall is {}\".format(recall_score(y_test, naive_test_preds) )) "
   ]
  },
  {
   "cell_type": "code",
   "execution_count": null,
   "id": "195c87e0",
   "metadata": {},
   "outputs": [],
   "source": []
  }
 ],
 "metadata": {
  "kernelspec": {
   "display_name": "Python 3 (ipykernel)",
   "language": "python",
   "name": "python3"
  },
  "language_info": {
   "codemirror_mode": {
    "name": "ipython",
    "version": 3
   },
   "file_extension": ".py",
   "mimetype": "text/x-python",
   "name": "python",
   "nbconvert_exporter": "python",
   "pygments_lexer": "ipython3",
   "version": "3.9.7"
  }
 },
 "nbformat": 4,
 "nbformat_minor": 5
}
